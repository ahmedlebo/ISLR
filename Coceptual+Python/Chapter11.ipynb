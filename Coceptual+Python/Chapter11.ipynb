{
 "cells": [
  {
   "cell_type": "markdown",
   "metadata": {},
   "source": [
    "# Coneptual:"
   ]
  },
  {
   "cell_type": "markdown",
   "metadata": {},
   "source": [
    "### Question1:"
   ]
  },
  {
   "cell_type": "markdown",
   "metadata": {},
   "source": [
    "a) Censoring mechanism is independent because it is random within subgroup of interest,and don't provide any information about the event time T so it satisfies the condition that the event time T is independent of the censoring time C.\n",
    "\n",
    "b) Censoring mechanism is dependent because the event time(measure of longevity) is dependent of the censoring time as people with age higher than 99 their is a high risk of death due to aging.\n",
    "\n",
    "c) Censoring mechanism is dependent because the event time(measure of longevity) is dependent of the censoring time because given they are very sick ,there is a high risk of death then the condition of independence isn't satisfied.\n",
    "\n",
    "d) Censoring mechanism is dependent because the event time(unemployment duration) is dependent on the censoring time (the time they stay in touch with study investigators), because it is an indication of employment of the candidate so it gives us information about the event time so it is not independent.\n",
    "\n",
    "e) Censoring mechanism is dependent because the censoring indicates that the event time is more likely to happen soon near the censoring time.\n",
    "\n",
    "f) Censoring mechanism is independent as the censoring time doesn't give enough information about when the study of the resident will end when out of town.\n",
    "\n",
    "g) Censoring mechanism is independent because as their is no relapse for the disease in 5 years then the odds of relapsing after this time is small so we can not tell that the event time T is dependent on the censoring time C.\n",
    "\n",
    "h) Censoring mechanism is independent.\n",
    "\n",
    "i) Censoring mechanism is dependent because the models with higher quality will tend to have event time higher so there is an indication even if e have only the censoring time depending on the factory."
   ]
  },
  {
   "cell_type": "markdown",
   "metadata": {},
   "source": [
    "### Question2:"
   ]
  },
  {
   "cell_type": "markdown",
   "metadata": {},
   "source": [
    "![Q2](Chapter11/Q2.jpeg)"
   ]
  },
  {
   "cell_type": "markdown",
   "metadata": {},
   "source": [
    "### Question3:"
   ]
  },
  {
   "cell_type": "markdown",
   "metadata": {},
   "source": [
    "![Q3](Chapter11/Q3.jpeg)"
   ]
  },
  {
   "cell_type": "markdown",
   "metadata": {},
   "source": [
    "### Question4:"
   ]
  },
  {
   "cell_type": "markdown",
   "metadata": {},
   "source": [
    "![Q4](Chapter11/Q4.jpeg)"
   ]
  },
  {
   "cell_type": "code",
   "execution_count": 1,
   "metadata": {},
   "outputs": [],
   "source": [
    "import numpy as np\n",
    "import pandas as pd\n",
    "import matplotlib.pyplot as plt\n",
    "from lifelines import KaplanMeierFitter"
   ]
  },
  {
   "cell_type": "code",
   "execution_count": 3,
   "metadata": {},
   "outputs": [
    {
     "data": {
      "text/html": [
       "<div>\n",
       "<style scoped>\n",
       "    .dataframe tbody tr th:only-of-type {\n",
       "        vertical-align: middle;\n",
       "    }\n",
       "\n",
       "    .dataframe tbody tr th {\n",
       "        vertical-align: top;\n",
       "    }\n",
       "\n",
       "    .dataframe thead th {\n",
       "        text-align: right;\n",
       "    }\n",
       "</style>\n",
       "<table border=\"1\" class=\"dataframe\">\n",
       "  <thead>\n",
       "    <tr style=\"text-align: right;\">\n",
       "      <th></th>\n",
       "      <th>Time</th>\n",
       "      <th>Dead</th>\n",
       "    </tr>\n",
       "  </thead>\n",
       "  <tbody>\n",
       "    <tr>\n",
       "      <th>0</th>\n",
       "      <td>26.5</td>\n",
       "      <td>1</td>\n",
       "    </tr>\n",
       "    <tr>\n",
       "      <th>1</th>\n",
       "      <td>37.2</td>\n",
       "      <td>1</td>\n",
       "    </tr>\n",
       "    <tr>\n",
       "      <th>2</th>\n",
       "      <td>57.3</td>\n",
       "      <td>1</td>\n",
       "    </tr>\n",
       "    <tr>\n",
       "      <th>3</th>\n",
       "      <td>90.8</td>\n",
       "      <td>0</td>\n",
       "    </tr>\n",
       "    <tr>\n",
       "      <th>4</th>\n",
       "      <td>20.2</td>\n",
       "      <td>0</td>\n",
       "    </tr>\n",
       "    <tr>\n",
       "      <th>5</th>\n",
       "      <td>89.8</td>\n",
       "      <td>0</td>\n",
       "    </tr>\n",
       "  </tbody>\n",
       "</table>\n",
       "</div>"
      ],
      "text/plain": [
       "   Time  Dead\n",
       "0  26.5     1\n",
       "1  37.2     1\n",
       "2  57.3     1\n",
       "3  90.8     0\n",
       "4  20.2     0\n",
       "5  89.8     0"
      ]
     },
     "execution_count": 3,
     "metadata": {},
     "output_type": "execute_result"
    }
   ],
   "source": [
    "data ={'Time':[26.5,37.2,57.3,90.8,20.2,89.8],'Dead':[1,1,1,0,0,0]}\n",
    "df = pd.DataFrame(data)\n",
    "df.head(10)"
   ]
  },
  {
   "cell_type": "code",
   "execution_count": 8,
   "metadata": {},
   "outputs": [
    {
     "data": {
      "image/png": "[encoded data removed]",
      "text/plain": [
       "<Figure size 432x288 with 1 Axes>"
      ]
     },
     "metadata": {
      "needs_background": "light"
     },
     "output_type": "display_data"
    }
   ],
   "source": [
    "kmf = KaplanMeierFitter()\n",
    "kmf.fit(df['Time'], event_observed=df['Dead'])\n",
    "kmf.plot()\n",
    "plt.axvline(x=50,color='r')\n",
    "plt.grid()"
   ]
  },
  {
   "cell_type": "code",
   "execution_count": 11,
   "metadata": {},
   "outputs": [
    {
     "data": {
      "text/html": [
       "<div>\n",
       "<style scoped>\n",
       "    .dataframe tbody tr th:only-of-type {\n",
       "        vertical-align: middle;\n",
       "    }\n",
       "\n",
       "    .dataframe tbody tr th {\n",
       "        vertical-align: top;\n",
       "    }\n",
       "\n",
       "    .dataframe thead th {\n",
       "        text-align: right;\n",
       "    }\n",
       "</style>\n",
       "<table border=\"1\" class=\"dataframe\">\n",
       "  <thead>\n",
       "    <tr style=\"text-align: right;\">\n",
       "      <th></th>\n",
       "      <th>KM_estimate</th>\n",
       "    </tr>\n",
       "    <tr>\n",
       "      <th>timeline</th>\n",
       "      <th></th>\n",
       "    </tr>\n",
       "  </thead>\n",
       "  <tbody>\n",
       "    <tr>\n",
       "      <th>0.0</th>\n",
       "      <td>1.0</td>\n",
       "    </tr>\n",
       "    <tr>\n",
       "      <th>20.2</th>\n",
       "      <td>1.0</td>\n",
       "    </tr>\n",
       "    <tr>\n",
       "      <th>26.5</th>\n",
       "      <td>0.8</td>\n",
       "    </tr>\n",
       "    <tr>\n",
       "      <th>37.2</th>\n",
       "      <td>0.6</td>\n",
       "    </tr>\n",
       "    <tr>\n",
       "      <th>57.3</th>\n",
       "      <td>0.4</td>\n",
       "    </tr>\n",
       "    <tr>\n",
       "      <th>89.8</th>\n",
       "      <td>0.4</td>\n",
       "    </tr>\n",
       "    <tr>\n",
       "      <th>90.8</th>\n",
       "      <td>0.4</td>\n",
       "    </tr>\n",
       "  </tbody>\n",
       "</table>\n",
       "</div>"
      ],
      "text/plain": [
       "          KM_estimate\n",
       "timeline             \n",
       "0.0               1.0\n",
       "20.2              1.0\n",
       "26.5              0.8\n",
       "37.2              0.6\n",
       "57.3              0.4\n",
       "89.8              0.4\n",
       "90.8              0.4"
      ]
     },
     "execution_count": 11,
     "metadata": {},
     "output_type": "execute_result"
    }
   ],
   "source": [
    "kmf.survival_function_"
   ]
  },
  {
   "cell_type": "code",
   "execution_count": 12,
   "metadata": {},
   "outputs": [
    {
     "data": {
      "text/plain": [
       "0.6000000000000001"
      ]
     },
     "execution_count": 12,
     "metadata": {},
     "output_type": "execute_result"
    }
   ],
   "source": [
    "kmf.predict(50)"
   ]
  },
  {
   "cell_type": "markdown",
   "metadata": {},
   "source": [
    "### Question5:"
   ]
  },
  {
   "cell_type": "code",
   "execution_count": 25,
   "metadata": {},
   "outputs": [
    {
     "data": {
      "image/png": "[encoded data removed]",
      "text/plain": [
       "<Figure size 432x288 with 1 Axes>"
      ]
     },
     "metadata": {
      "needs_background": "light"
     },
     "output_type": "display_data"
    }
   ],
   "source": [
    "x = np.linspace(0, 100, 1000)\n",
    "y = np.piecewise(x, [x < 31, (x >=31)* (x<77),x>=77], [0.8, 0.5, 0.22])\n",
    "plt.plot(x,y)\n",
    "plt.xlabel('Timeline')\n",
    "plt.ylim(top=1.0,bottom=0.0)\n",
    "plt.grid()"
   ]
  },
  {
   "cell_type": "markdown",
   "metadata": {},
   "source": [
    "### Question6:"
   ]
  },
  {
   "cell_type": "markdown",
   "metadata": {},
   "source": [
    "![Q6](Chapter11/Q6.jpeg)"
   ]
  },
  {
   "cell_type": "code",
   "execution_count": 30,
   "metadata": {},
   "outputs": [
    {
     "data": {
      "image/png": "[encoded data removed]",
      "text/plain": [
       "<Figure size 432x288 with 1 Axes>"
      ]
     },
     "metadata": {
      "needs_background": "light"
     },
     "output_type": "display_data"
    }
   ],
   "source": [
    "x = np.linspace(0, 365, 1000)\n",
    "y = np.piecewise(x, [x < 150, (x >=150)* (x<300),x>=300], [1.0, 0.75, 0.375])\n",
    "plt.plot(x,y)\n",
    "plt.xlabel('Timeline')\n",
    "plt.ylim(top=1.04,bottom=0.0)\n",
    "plt.grid()"
   ]
  },
  {
   "cell_type": "code",
   "execution_count": null,
   "metadata": {},
   "outputs": [],
   "source": []
  },
  {
   "cell_type": "code",
   "execution_count": 26,
   "metadata": {},
   "outputs": [
    {
     "data": {
      "text/html": [
       "<div>\n",
       "<style scoped>\n",
       "    .dataframe tbody tr th:only-of-type {\n",
       "        vertical-align: middle;\n",
       "    }\n",
       "\n",
       "    .dataframe tbody tr th {\n",
       "        vertical-align: top;\n",
       "    }\n",
       "\n",
       "    .dataframe thead th {\n",
       "        text-align: right;\n",
       "    }\n",
       "</style>\n",
       "<table border=\"1\" class=\"dataframe\">\n",
       "  <thead>\n",
       "    <tr style=\"text-align: right;\">\n",
       "      <th></th>\n",
       "      <th>Time</th>\n",
       "      <th>Dead</th>\n",
       "    </tr>\n",
       "  </thead>\n",
       "  <tbody>\n",
       "    <tr>\n",
       "      <th>0</th>\n",
       "      <td>150</td>\n",
       "      <td>1</td>\n",
       "    </tr>\n",
       "    <tr>\n",
       "      <th>1</th>\n",
       "      <td>250</td>\n",
       "      <td>0</td>\n",
       "    </tr>\n",
       "    <tr>\n",
       "      <th>2</th>\n",
       "      <td>300</td>\n",
       "      <td>1</td>\n",
       "    </tr>\n",
       "    <tr>\n",
       "      <th>3</th>\n",
       "      <td>365</td>\n",
       "      <td>0</td>\n",
       "    </tr>\n",
       "  </tbody>\n",
       "</table>\n",
       "</div>"
      ],
      "text/plain": [
       "   Time  Dead\n",
       "0   150     1\n",
       "1   250     0\n",
       "2   300     1\n",
       "3   365     0"
      ]
     },
     "execution_count": 26,
     "metadata": {},
     "output_type": "execute_result"
    }
   ],
   "source": [
    "data ={'Time':[150,250,300,365],'Dead':[1,0,1,0]}\n",
    "df = pd.DataFrame(data)\n",
    "df.head(10)"
   ]
  },
  {
   "cell_type": "code",
   "execution_count": 27,
   "metadata": {},
   "outputs": [
    {
     "data": {
      "image/png": "[encoded data removed]",
      "text/plain": [
       "<Figure size 432x288 with 1 Axes>"
      ]
     },
     "metadata": {
      "needs_background": "light"
     },
     "output_type": "display_data"
    }
   ],
   "source": [
    "kmf = KaplanMeierFitter()\n",
    "kmf.fit(df['Time'], event_observed=df['Dead'])\n",
    "kmf.plot()\n",
    "\n",
    "plt.grid()"
   ]
  },
  {
   "cell_type": "markdown",
   "metadata": {},
   "source": [
    "### Question7:"
   ]
  },
  {
   "cell_type": "markdown",
   "metadata": {},
   "source": [
    "A)"
   ]
  },
  {
   "cell_type": "markdown",
   "metadata": {},
   "source": [
    "###### A hypergeometric experiment is a statistical experiment that has the following properties:\n",
    "\n",
    "- A sample of size $r_{1k}$ is randomly selected without replacement from a population of $r_{k}$ items.\n",
    "- In the sample size, $r_{1k}-q_{1k}$ items can be classified as successes, and $q_{1k}$ items can be classified as failures.\n",
    "- $q_{k}$ is considered as the number of items in the population that are classified as failures.\n",
    "- $r_{k}-q_{k}$ is considered as the number of items in the population that are classified as successes.\n",
    "\n",
    "so from this we can argue that the failure follows a hypergeometric distribution in which we are concerned about the number of failures we draw with our sample selected from the population.\n",
    "\n",
    "$$  p_{q_{1k}}(k)=\\Pr(q_{1k}=k)={\\frac {{\\binom {q_{k}}{k}}{\\binom {r_{k}-q{k}}{r_{1k}-k}}}{\\binom {r_{k}}{r_{1k}}}} $$"
   ]
  },
  {
   "cell_type": "markdown",
   "metadata": {},
   "source": [
    "##### Elaborating more with math:(Thanks to Reem)"
   ]
  },
  {
   "cell_type": "markdown",
   "metadata": {},
   "source": [
    "There are $r_{k}$ in the population of which $q_{k}$ are failures and $r_{k}-q{k}$ are successes.\n",
    "\n",
    "From this population $r_{k}$ samples are drawn at random without replacement.\n",
    "\n",
    "$q_{1k}$ is the discrete random variable that counts the number of failures drawn.\n",
    "\n",
    "$$\\Pr(q_{1k}=k) ={{number \\space of \\space ways \\space to \\space draw \\space k \\space failures \\space in \\space r_{1k} \\space total \\space draws} \\over {number \\space of \\space ways \\space to \\space perform \\space r_{1k} \\space draws}} $$\n",
    "\n",
    "And if we drew k failures in $r_{1k}$ draws out of total q_{k} in the population ,then we necessarily drew $r_{1k}-k$ out of $r_{k}-q_{k}$\n",
    "\n",
    "This probability equals to ${\\binom {q_{k}}{k}}{\\binom {r_{k}-q{k}}{r_{1k}-k}}$\n",
    "\n",
    "Then,\n",
    "$$  p_{q_{1k}}(k)=\\Pr(q_{1k}=k)={\\frac {{\\binom {q_{k}}{k}}{\\binom {r_{k}-q{k}}{r_{1k}-k}}}{\\binom {r_{k}}{r_{1k}}}} $$"
   ]
  },
  {
   "cell_type": "markdown",
   "metadata": {},
   "source": [
    "B)"
   ]
  },
  {
   "cell_type": "markdown",
   "metadata": {},
   "source": [
    "from this [link](https://en.wikipedia.org/wiki/Hypergeometric_distribution) get the mean and variance equations and substitute in it with $r_{k},r_{1k},q_{1k},q_{k}$\n",
    "$$E(q_{1k})={r_{1k}{q_{k} \\over r_{k}}}$$\n",
    "\n",
    "$$Var(q_{1k})={r_{1k}{q_{k} \\over r_{k}}{r_{k}-q_{k} \\over r_{k}}{r_{k}-r_{1k} \\over r_{k}-1}} $$\n",
    "\n",
    "$$ = {q_{k}{r_{1k} \\over r_{k}}{(1-{r_{1k} \\over r_{k}})({r_{k}-q_{k}})} \\over r_{k}-1} $$"
   ]
  },
  {
   "cell_type": "markdown",
   "metadata": {},
   "source": [
    "### Question8:"
   ]
  },
  {
   "cell_type": "markdown",
   "metadata": {},
   "source": [
    "A)"
   ]
  },
  {
   "cell_type": "markdown",
   "metadata": {},
   "source": [
    "f(t) is the probability density function associated with T.\n",
    "Then,\n",
    "$$F(t) = 1-S(t) = 1-\\Pr(T>t)=\\Pr(T<t) = \\int_{0}^{t} f(t)$$\n",
    "\n",
    "$$\\therefore f(t) = \\frac {dF(t)}{dt}$$"
   ]
  },
  {
   "cell_type": "markdown",
   "metadata": {},
   "source": [
    "B)"
   ]
  },
  {
   "cell_type": "markdown",
   "metadata": {},
   "source": [
    "$$ \\frac{dS(t)}{dt} = \\frac{d(1-F(t))}{dt}= -\\frac{dF(t)}{dt} = -f(t)$$\n",
    "\n",
    "$$-\\frac{d\\log(S(t))}{dt} = \\frac{\\frac{-dS(t)}{dt}}{S(t)}= \\frac{f(t)}{S(t)} = h(t)$$\n",
    "\n",
    "$$ \\log(S(t)) = \\int_{0}^{t}-h(s) ds$$\n",
    "\n",
    "$$\\therefore S(t) = \\exp(\\int_{0}^{t}-h(s) ds) $$"
   ]
  },
  {
   "cell_type": "markdown",
   "metadata": {},
   "source": [
    "### Question9:"
   ]
  },
  {
   "cell_type": "markdown",
   "metadata": {},
   "source": [
    "A)"
   ]
  },
  {
   "cell_type": "markdown",
   "metadata": {},
   "source": [
    "$$ f(t) =\\lambda *exp(-\\lambda t) $$\n",
    "$$ F(t) = \\int_{0}^{\\infty} \\lambda *exp(-\\lambda t) = 1- \\exp(-\\lambda t) $$\n",
    "$$S(t) =1-F(t) = \\exp(-\\lambda t) $$"
   ]
  },
  {
   "cell_type": "markdown",
   "metadata": {},
   "source": [
    "B)"
   ]
  },
  {
   "cell_type": "markdown",
   "metadata": {},
   "source": [
    "$$ L= \\prod_{i=1}^{n} (f(y_{i})^{\\delta_{i}} (S(y_{i})^{1-\\delta{i}} = (\\lambda *exp(-\\lambda t))^{\\delta_{i}}(exp(-\\lambda t))^{1-\\delta{i}} $$\n",
    "$$ =\\prod_{i=1}^{n} \\lambda^{\\delta_{i}} exp(-\\lambda t)$$"
   ]
  },
  {
   "cell_type": "markdown",
   "metadata": {},
   "source": [
    "C)"
   ]
  },
  {
   "cell_type": "markdown",
   "metadata": {},
   "source": [
    "$$ \\log(L) =\\sum_{i=1}^{n} \\log(\\lambda^{\\delta_{i}} exp(-\\lambda t)) $$\n",
    "$$ = \\sum_{i=1}^{n} \\log(\\lambda^{\\delta_{i}})+log(exp(-\\lambda t)) $$\n",
    "$$ = \\sum_{i=1}^{n} \\delta_{i}\\log(\\lambda)-\\lambda t_{i} $$\n",
    "\n",
    "$$ let \\space y_{i}=t_{i} $$\n",
    "\n",
    "$$\\log(L) = \\sum_{i=1}^{n} \\delta_{i}\\log(\\lambda)-\\sum_{i=1}^{n}\\lambda y_{i} $$\n",
    "$$\\frac {d(\\log(L))}{d(\\lambda)} = \\frac{\\sum_{i=1}^{n} \\delta_{i}} {\\lambda}-\\sum_{i=1}^{n} y_{i}  $$\n",
    "\n",
    "$$ setting \\space \\frac {d(\\log(L))}{d(\\lambda)}=0 \\space and \\space solving \\space for  \\space \\lambda$$\n",
    "$$ \\hat\\lambda = \\frac{\\sum_{i=1}^{n} \\delta_{i}} {\\sum_{i=1}^{n} y_{i}} $$\n"
   ]
  },
  {
   "cell_type": "markdown",
   "metadata": {},
   "source": [
    "D)"
   ]
  },
  {
   "cell_type": "markdown",
   "metadata": {},
   "source": [
    "$$E(t) = 1/\\lambda $$\n",
    "$$ = \\frac{\\sum_{i=1}^{n} y_{i}} {\\sum_{i=1}^{n} \\delta_{i}} $$ "
   ]
  },
  {
   "cell_type": "markdown",
   "metadata": {},
   "source": [
    "# Applied:"
   ]
  },
  {
   "cell_type": "markdown",
   "metadata": {},
   "source": [
    "### Question10:"
   ]
  },
  {
   "cell_type": "code",
   "execution_count": 76,
   "metadata": {},
   "outputs": [
    {
     "data": {
      "text/html": [
       "<div>\n",
       "<style scoped>\n",
       "    .dataframe tbody tr th:only-of-type {\n",
       "        vertical-align: middle;\n",
       "    }\n",
       "\n",
       "    .dataframe tbody tr th {\n",
       "        vertical-align: top;\n",
       "    }\n",
       "\n",
       "    .dataframe thead th {\n",
       "        text-align: right;\n",
       "    }\n",
       "</style>\n",
       "<table border=\"1\" class=\"dataframe\">\n",
       "  <thead>\n",
       "    <tr style=\"text-align: right;\">\n",
       "      <th></th>\n",
       "      <th>sex</th>\n",
       "      <th>diagnosis</th>\n",
       "      <th>loc</th>\n",
       "      <th>ki</th>\n",
       "      <th>gtv</th>\n",
       "      <th>stereo</th>\n",
       "      <th>status</th>\n",
       "      <th>time</th>\n",
       "    </tr>\n",
       "  </thead>\n",
       "  <tbody>\n",
       "    <tr>\n",
       "      <th>0</th>\n",
       "      <td>Female</td>\n",
       "      <td>Meningioma</td>\n",
       "      <td>Infratentorial</td>\n",
       "      <td>90</td>\n",
       "      <td>6.11</td>\n",
       "      <td>SRS</td>\n",
       "      <td>0</td>\n",
       "      <td>57.64</td>\n",
       "    </tr>\n",
       "    <tr>\n",
       "      <th>1</th>\n",
       "      <td>Male</td>\n",
       "      <td>HG glioma</td>\n",
       "      <td>Supratentorial</td>\n",
       "      <td>90</td>\n",
       "      <td>19.35</td>\n",
       "      <td>SRT</td>\n",
       "      <td>1</td>\n",
       "      <td>8.98</td>\n",
       "    </tr>\n",
       "    <tr>\n",
       "      <th>2</th>\n",
       "      <td>Female</td>\n",
       "      <td>Meningioma</td>\n",
       "      <td>Infratentorial</td>\n",
       "      <td>70</td>\n",
       "      <td>7.95</td>\n",
       "      <td>SRS</td>\n",
       "      <td>0</td>\n",
       "      <td>26.46</td>\n",
       "    </tr>\n",
       "    <tr>\n",
       "      <th>3</th>\n",
       "      <td>Female</td>\n",
       "      <td>LG glioma</td>\n",
       "      <td>Supratentorial</td>\n",
       "      <td>80</td>\n",
       "      <td>7.61</td>\n",
       "      <td>SRT</td>\n",
       "      <td>1</td>\n",
       "      <td>47.80</td>\n",
       "    </tr>\n",
       "    <tr>\n",
       "      <th>4</th>\n",
       "      <td>Male</td>\n",
       "      <td>HG glioma</td>\n",
       "      <td>Supratentorial</td>\n",
       "      <td>90</td>\n",
       "      <td>5.06</td>\n",
       "      <td>SRT</td>\n",
       "      <td>1</td>\n",
       "      <td>6.30</td>\n",
       "    </tr>\n",
       "  </tbody>\n",
       "</table>\n",
       "</div>"
      ],
      "text/plain": [
       "      sex   diagnosis             loc  ki    gtv stereo  status   time\n",
       "0  Female  Meningioma  Infratentorial  90   6.11    SRS       0  57.64\n",
       "1    Male   HG glioma  Supratentorial  90  19.35    SRT       1   8.98\n",
       "2  Female  Meningioma  Infratentorial  70   7.95    SRS       0  26.46\n",
       "3  Female   LG glioma  Supratentorial  80   7.61    SRT       1  47.80\n",
       "4    Male   HG glioma  Supratentorial  90   5.06    SRT       1   6.30"
      ]
     },
     "execution_count": 76,
     "metadata": {},
     "output_type": "execute_result"
    }
   ],
   "source": [
    "brain_df = pd.read_csv('csv/BrainCancer.csv')\n",
    "brain_df.drop('Unnamed: 0',axis=1,inplace=True)\n",
    "brain_df.head()"
   ]
  },
  {
   "cell_type": "markdown",
   "metadata": {},
   "source": [
    "A)"
   ]
  },
  {
   "cell_type": "code",
   "execution_count": 77,
   "metadata": {},
   "outputs": [
    {
     "data": {
      "image/png": "[encoded data removed]",
      "text/plain": [
       "<Figure size 432x288 with 1 Axes>"
      ]
     },
     "metadata": {
      "needs_background": "light"
     },
     "output_type": "display_data"
    }
   ],
   "source": [
    "kmf = KaplanMeierFitter()\n",
    "kmf.fit(brain_df['time'], event_observed=brain_df['status'])\n",
    "kmf.plot()\n",
    "\n",
    "plt.grid()"
   ]
  },
  {
   "cell_type": "code",
   "execution_count": 78,
   "metadata": {},
   "outputs": [
    {
     "data": {
      "text/html": [
       "<div>\n",
       "<style scoped>\n",
       "    .dataframe tbody tr th:only-of-type {\n",
       "        vertical-align: middle;\n",
       "    }\n",
       "\n",
       "    .dataframe tbody tr th {\n",
       "        vertical-align: top;\n",
       "    }\n",
       "\n",
       "    .dataframe thead th {\n",
       "        text-align: right;\n",
       "    }\n",
       "</style>\n",
       "<table border=\"1\" class=\"dataframe\">\n",
       "  <thead>\n",
       "    <tr style=\"text-align: right;\">\n",
       "      <th></th>\n",
       "      <th>KM_estimate_lower_0.95</th>\n",
       "      <th>KM_estimate_upper_0.95</th>\n",
       "    </tr>\n",
       "  </thead>\n",
       "  <tbody>\n",
       "    <tr>\n",
       "      <th>0.00</th>\n",
       "      <td>1.000000</td>\n",
       "      <td>1.000000</td>\n",
       "    </tr>\n",
       "    <tr>\n",
       "      <th>0.07</th>\n",
       "      <td>0.922070</td>\n",
       "      <td>0.998391</td>\n",
       "    </tr>\n",
       "    <tr>\n",
       "      <th>1.18</th>\n",
       "      <td>0.922070</td>\n",
       "      <td>0.998391</td>\n",
       "    </tr>\n",
       "    <tr>\n",
       "      <th>1.41</th>\n",
       "      <td>0.911675</td>\n",
       "      <td>0.994234</td>\n",
       "    </tr>\n",
       "    <tr>\n",
       "      <th>1.54</th>\n",
       "      <td>0.911675</td>\n",
       "      <td>0.994234</td>\n",
       "    </tr>\n",
       "    <tr>\n",
       "      <th>...</th>\n",
       "      <td>...</td>\n",
       "      <td>...</td>\n",
       "    </tr>\n",
       "    <tr>\n",
       "      <th>65.02</th>\n",
       "      <td>0.304809</td>\n",
       "      <td>0.587376</td>\n",
       "    </tr>\n",
       "    <tr>\n",
       "      <th>67.38</th>\n",
       "      <td>0.304809</td>\n",
       "      <td>0.587376</td>\n",
       "    </tr>\n",
       "    <tr>\n",
       "      <th>73.74</th>\n",
       "      <td>0.304809</td>\n",
       "      <td>0.587376</td>\n",
       "    </tr>\n",
       "    <tr>\n",
       "      <th>78.75</th>\n",
       "      <td>0.304809</td>\n",
       "      <td>0.587376</td>\n",
       "    </tr>\n",
       "    <tr>\n",
       "      <th>82.56</th>\n",
       "      <td>0.304809</td>\n",
       "      <td>0.587376</td>\n",
       "    </tr>\n",
       "  </tbody>\n",
       "</table>\n",
       "<p>87 rows × 2 columns</p>\n",
       "</div>"
      ],
      "text/plain": [
       "       KM_estimate_lower_0.95  KM_estimate_upper_0.95\n",
       "0.00                 1.000000                1.000000\n",
       "0.07                 0.922070                0.998391\n",
       "1.18                 0.922070                0.998391\n",
       "1.41                 0.911675                0.994234\n",
       "1.54                 0.911675                0.994234\n",
       "...                       ...                     ...\n",
       "65.02                0.304809                0.587376\n",
       "67.38                0.304809                0.587376\n",
       "73.74                0.304809                0.587376\n",
       "78.75                0.304809                0.587376\n",
       "82.56                0.304809                0.587376\n",
       "\n",
       "[87 rows x 2 columns]"
      ]
     },
     "execution_count": 78,
     "metadata": {},
     "output_type": "execute_result"
    }
   ],
   "source": [
    "kmf.confidence_interval_"
   ]
  },
  {
   "cell_type": "markdown",
   "metadata": {},
   "source": [
    "C)"
   ]
  },
  {
   "cell_type": "code",
   "execution_count": 79,
   "metadata": {},
   "outputs": [
    {
     "name": "stdout",
     "output_type": "stream",
     "text": [
      "<class 'pandas.core.frame.DataFrame'>\n",
      "RangeIndex: 88 entries, 0 to 87\n",
      "Data columns (total 8 columns):\n",
      " #   Column     Non-Null Count  Dtype  \n",
      "---  ------     --------------  -----  \n",
      " 0   sex        88 non-null     object \n",
      " 1   diagnosis  87 non-null     object \n",
      " 2   loc        88 non-null     object \n",
      " 3   ki         88 non-null     int64  \n",
      " 4   gtv        88 non-null     float64\n",
      " 5   stereo     88 non-null     object \n",
      " 6   status     88 non-null     int64  \n",
      " 7   time       88 non-null     float64\n",
      "dtypes: float64(2), int64(2), object(4)\n",
      "memory usage: 5.6+ KB\n"
     ]
    }
   ],
   "source": [
    "brain_df.info()"
   ]
  },
  {
   "cell_type": "code",
   "execution_count": 80,
   "metadata": {},
   "outputs": [
    {
     "data": {
      "text/html": [
       "<div>\n",
       "<style scoped>\n",
       "    .dataframe tbody tr th:only-of-type {\n",
       "        vertical-align: middle;\n",
       "    }\n",
       "\n",
       "    .dataframe tbody tr th {\n",
       "        vertical-align: top;\n",
       "    }\n",
       "\n",
       "    .dataframe thead th {\n",
       "        text-align: right;\n",
       "    }\n",
       "</style>\n",
       "<table border=\"1\" class=\"dataframe\">\n",
       "  <thead>\n",
       "    <tr style=\"text-align: right;\">\n",
       "      <th></th>\n",
       "      <th>ki</th>\n",
       "      <th>gtv</th>\n",
       "      <th>status</th>\n",
       "      <th>time</th>\n",
       "      <th>sex_Male</th>\n",
       "      <th>diagnosis_LG glioma</th>\n",
       "      <th>diagnosis_Meningioma</th>\n",
       "      <th>diagnosis_Other</th>\n",
       "      <th>loc_Supratentorial</th>\n",
       "      <th>stereo_SRT</th>\n",
       "    </tr>\n",
       "  </thead>\n",
       "  <tbody>\n",
       "    <tr>\n",
       "      <th>0</th>\n",
       "      <td>90</td>\n",
       "      <td>6.11</td>\n",
       "      <td>0</td>\n",
       "      <td>57.64</td>\n",
       "      <td>0</td>\n",
       "      <td>0</td>\n",
       "      <td>1</td>\n",
       "      <td>0</td>\n",
       "      <td>0</td>\n",
       "      <td>0</td>\n",
       "    </tr>\n",
       "    <tr>\n",
       "      <th>1</th>\n",
       "      <td>90</td>\n",
       "      <td>19.35</td>\n",
       "      <td>1</td>\n",
       "      <td>8.98</td>\n",
       "      <td>1</td>\n",
       "      <td>0</td>\n",
       "      <td>0</td>\n",
       "      <td>0</td>\n",
       "      <td>1</td>\n",
       "      <td>1</td>\n",
       "    </tr>\n",
       "    <tr>\n",
       "      <th>2</th>\n",
       "      <td>70</td>\n",
       "      <td>7.95</td>\n",
       "      <td>0</td>\n",
       "      <td>26.46</td>\n",
       "      <td>0</td>\n",
       "      <td>0</td>\n",
       "      <td>1</td>\n",
       "      <td>0</td>\n",
       "      <td>0</td>\n",
       "      <td>0</td>\n",
       "    </tr>\n",
       "    <tr>\n",
       "      <th>3</th>\n",
       "      <td>80</td>\n",
       "      <td>7.61</td>\n",
       "      <td>1</td>\n",
       "      <td>47.80</td>\n",
       "      <td>0</td>\n",
       "      <td>1</td>\n",
       "      <td>0</td>\n",
       "      <td>0</td>\n",
       "      <td>1</td>\n",
       "      <td>1</td>\n",
       "    </tr>\n",
       "    <tr>\n",
       "      <th>4</th>\n",
       "      <td>90</td>\n",
       "      <td>5.06</td>\n",
       "      <td>1</td>\n",
       "      <td>6.30</td>\n",
       "      <td>1</td>\n",
       "      <td>0</td>\n",
       "      <td>0</td>\n",
       "      <td>0</td>\n",
       "      <td>1</td>\n",
       "      <td>1</td>\n",
       "    </tr>\n",
       "  </tbody>\n",
       "</table>\n",
       "</div>"
      ],
      "text/plain": [
       "   ki    gtv  status  ...  diagnosis_Other  loc_Supratentorial  stereo_SRT\n",
       "0  90   6.11       0  ...                0                   0           0\n",
       "1  90  19.35       1  ...                0                   1           1\n",
       "2  70   7.95       0  ...                0                   0           0\n",
       "3  80   7.61       1  ...                0                   1           1\n",
       "4  90   5.06       1  ...                0                   1           1\n",
       "\n",
       "[5 rows x 10 columns]"
      ]
     },
     "execution_count": 80,
     "metadata": {},
     "output_type": "execute_result"
    }
   ],
   "source": [
    "dummies = pd.get_dummies(brain_df,drop_first=True)\n",
    "dummies.head()"
   ]
  },
  {
   "cell_type": "code",
   "execution_count": 81,
   "metadata": {},
   "outputs": [
    {
     "name": "stdout",
     "output_type": "stream",
     "text": [
      "<class 'pandas.core.frame.DataFrame'>\n",
      "RangeIndex: 88 entries, 0 to 87\n",
      "Data columns (total 8 columns):\n",
      " #   Column     Non-Null Count  Dtype  \n",
      "---  ------     --------------  -----  \n",
      " 0   sex        88 non-null     object \n",
      " 1   diagnosis  87 non-null     object \n",
      " 2   loc        88 non-null     object \n",
      " 3   ki         88 non-null     int64  \n",
      " 4   gtv        88 non-null     float64\n",
      " 5   stereo     88 non-null     object \n",
      " 6   status     88 non-null     int64  \n",
      " 7   time       88 non-null     float64\n",
      "dtypes: float64(2), int64(2), object(4)\n",
      "memory usage: 5.6+ KB\n"
     ]
    }
   ],
   "source": [
    "brain_df.info()"
   ]
  },
  {
   "cell_type": "code",
   "execution_count": 82,
   "metadata": {},
   "outputs": [
    {
     "data": {
      "text/html": [
       "<div>\n",
       "<style scoped>\n",
       "    .dataframe tbody tr th:only-of-type {\n",
       "        vertical-align: middle;\n",
       "    }\n",
       "\n",
       "    .dataframe tbody tr th {\n",
       "        vertical-align: top;\n",
       "    }\n",
       "\n",
       "    .dataframe thead th {\n",
       "        text-align: right;\n",
       "    }\n",
       "</style>\n",
       "<table border=\"1\" class=\"dataframe\">\n",
       "  <tbody>\n",
       "    <tr>\n",
       "      <th>model</th>\n",
       "      <td>lifelines.CoxPHFitter</td>\n",
       "    </tr>\n",
       "    <tr>\n",
       "      <th>duration col</th>\n",
       "      <td>'time'</td>\n",
       "    </tr>\n",
       "    <tr>\n",
       "      <th>event col</th>\n",
       "      <td>'status'</td>\n",
       "    </tr>\n",
       "    <tr>\n",
       "      <th>baseline estimation</th>\n",
       "      <td>breslow</td>\n",
       "    </tr>\n",
       "    <tr>\n",
       "      <th>number of observations</th>\n",
       "      <td>88</td>\n",
       "    </tr>\n",
       "    <tr>\n",
       "      <th>number of events observed</th>\n",
       "      <td>35</td>\n",
       "    </tr>\n",
       "    <tr>\n",
       "      <th>partial log-likelihood</th>\n",
       "      <td>-118.41</td>\n",
       "    </tr>\n",
       "    <tr>\n",
       "      <th>time fit was run</th>\n",
       "      <td>2021-11-19 22:44:14 UTC</td>\n",
       "    </tr>\n",
       "  </tbody>\n",
       "</table>\n",
       "</div><table border=\"1\" class=\"dataframe\">\n",
       "  <thead>\n",
       "    <tr style=\"text-align: right;\">\n",
       "      <th style=\"min-width: 12px;\"></th>\n",
       "      <th style=\"min-width: 12px;\">coef</th>\n",
       "      <th style=\"min-width: 12px;\">exp(coef)</th>\n",
       "      <th style=\"min-width: 12px;\">se(coef)</th>\n",
       "      <th style=\"min-width: 12px;\">coef lower 95%</th>\n",
       "      <th style=\"min-width: 12px;\">coef upper 95%</th>\n",
       "      <th style=\"min-width: 12px;\">exp(coef) lower 95%</th>\n",
       "      <th style=\"min-width: 12px;\">exp(coef) upper 95%</th>\n",
       "      <th style=\"min-width: 12px;\">z</th>\n",
       "      <th style=\"min-width: 12px;\">p</th>\n",
       "      <th style=\"min-width: 12px;\">-log2(p)</th>\n",
       "    </tr>\n",
       "  </thead>\n",
       "  <tbody>\n",
       "    <tr>\n",
       "      <th>ki</th>\n",
       "      <td>-0.06</td>\n",
       "      <td>0.94</td>\n",
       "      <td>0.02</td>\n",
       "      <td>-0.09</td>\n",
       "      <td>-0.02</td>\n",
       "      <td>0.91</td>\n",
       "      <td>0.98</td>\n",
       "      <td>-3.16</td>\n",
       "      <td>&lt;0.005</td>\n",
       "      <td>9.32</td>\n",
       "    </tr>\n",
       "    <tr>\n",
       "      <th>gtv</th>\n",
       "      <td>0.04</td>\n",
       "      <td>1.04</td>\n",
       "      <td>0.02</td>\n",
       "      <td>-0.01</td>\n",
       "      <td>0.08</td>\n",
       "      <td>0.99</td>\n",
       "      <td>1.08</td>\n",
       "      <td>1.59</td>\n",
       "      <td>0.11</td>\n",
       "      <td>3.17</td>\n",
       "    </tr>\n",
       "    <tr>\n",
       "      <th>sex_Male</th>\n",
       "      <td>0.10</td>\n",
       "      <td>1.10</td>\n",
       "      <td>0.36</td>\n",
       "      <td>-0.61</td>\n",
       "      <td>0.80</td>\n",
       "      <td>0.54</td>\n",
       "      <td>2.24</td>\n",
       "      <td>0.27</td>\n",
       "      <td>0.79</td>\n",
       "      <td>0.35</td>\n",
       "    </tr>\n",
       "    <tr>\n",
       "      <th>diagnosis_LG glioma</th>\n",
       "      <td>-1.09</td>\n",
       "      <td>0.34</td>\n",
       "      <td>0.57</td>\n",
       "      <td>-2.22</td>\n",
       "      <td>0.03</td>\n",
       "      <td>0.11</td>\n",
       "      <td>1.03</td>\n",
       "      <td>-1.90</td>\n",
       "      <td>0.06</td>\n",
       "      <td>4.13</td>\n",
       "    </tr>\n",
       "    <tr>\n",
       "      <th>diagnosis_Meningioma</th>\n",
       "      <td>-2.08</td>\n",
       "      <td>0.12</td>\n",
       "      <td>0.45</td>\n",
       "      <td>-2.97</td>\n",
       "      <td>-1.19</td>\n",
       "      <td>0.05</td>\n",
       "      <td>0.30</td>\n",
       "      <td>-4.59</td>\n",
       "      <td>&lt;0.005</td>\n",
       "      <td>17.78</td>\n",
       "    </tr>\n",
       "    <tr>\n",
       "      <th>diagnosis_Other</th>\n",
       "      <td>-1.24</td>\n",
       "      <td>0.29</td>\n",
       "      <td>0.63</td>\n",
       "      <td>-2.46</td>\n",
       "      <td>-0.01</td>\n",
       "      <td>0.09</td>\n",
       "      <td>0.99</td>\n",
       "      <td>-1.97</td>\n",
       "      <td>0.05</td>\n",
       "      <td>4.37</td>\n",
       "    </tr>\n",
       "    <tr>\n",
       "      <th>loc_Supratentorial</th>\n",
       "      <td>0.38</td>\n",
       "      <td>1.46</td>\n",
       "      <td>0.70</td>\n",
       "      <td>-0.99</td>\n",
       "      <td>1.74</td>\n",
       "      <td>0.37</td>\n",
       "      <td>5.72</td>\n",
       "      <td>0.54</td>\n",
       "      <td>0.59</td>\n",
       "      <td>0.76</td>\n",
       "    </tr>\n",
       "    <tr>\n",
       "      <th>stereo_SRT</th>\n",
       "      <td>0.14</td>\n",
       "      <td>1.15</td>\n",
       "      <td>0.60</td>\n",
       "      <td>-1.03</td>\n",
       "      <td>1.31</td>\n",
       "      <td>0.36</td>\n",
       "      <td>3.71</td>\n",
       "      <td>0.23</td>\n",
       "      <td>0.82</td>\n",
       "      <td>0.29</td>\n",
       "    </tr>\n",
       "  </tbody>\n",
       "</table><br><div>\n",
       "<style scoped>\n",
       "    .dataframe tbody tr th:only-of-type {\n",
       "        vertical-align: middle;\n",
       "    }\n",
       "\n",
       "    .dataframe tbody tr th {\n",
       "        vertical-align: top;\n",
       "    }\n",
       "\n",
       "    .dataframe thead th {\n",
       "        text-align: right;\n",
       "    }\n",
       "</style>\n",
       "<table border=\"1\" class=\"dataframe\">\n",
       "  <tbody>\n",
       "    <tr>\n",
       "      <th>Concordance</th>\n",
       "      <td>0.79</td>\n",
       "    </tr>\n",
       "    <tr>\n",
       "      <th>Partial AIC</th>\n",
       "      <td>252.82</td>\n",
       "    </tr>\n",
       "    <tr>\n",
       "      <th>log-likelihood ratio test</th>\n",
       "      <td>39.47 on 8 df</td>\n",
       "    </tr>\n",
       "    <tr>\n",
       "      <th>-log2(p) of ll-ratio test</th>\n",
       "      <td>17.93</td>\n",
       "    </tr>\n",
       "  </tbody>\n",
       "</table>\n",
       "</div>"
      ],
      "text/latex": [
       "\\begin{tabular}{lrrrrrrrrrr}\n",
       "\\toprule\n",
       "{} &  coef &  exp(coef) &  se(coef) &  coef lower 95\\% &  coef upper 95\\% &  exp(coef) lower 95\\% &  exp(coef) upper 95\\% &     z &    p &  -log2(p) \\\\\n",
       "covariate            &       &            &           &                 &                 &                      &                      &       &      &           \\\\\n",
       "\\midrule\n",
       "ki                   & -0.06 &       0.94 &      0.02 &           -0.09 &           -0.02 &                 0.91 &                 0.98 & -3.16 & 0.00 &      9.32 \\\\\n",
       "gtv                  &  0.04 &       1.04 &      0.02 &           -0.01 &            0.08 &                 0.99 &                 1.08 &  1.59 & 0.11 &      3.17 \\\\\n",
       "sex\\_Male             &  0.10 &       1.10 &      0.36 &           -0.61 &            0.80 &                 0.54 &                 2.24 &  0.27 & 0.79 &      0.35 \\\\\n",
       "diagnosis\\_LG glioma  & -1.09 &       0.34 &      0.57 &           -2.22 &            0.03 &                 0.11 &                 1.03 & -1.90 & 0.06 &      4.13 \\\\\n",
       "diagnosis\\_Meningioma & -2.08 &       0.12 &      0.45 &           -2.97 &           -1.19 &                 0.05 &                 0.30 & -4.59 & 0.00 &     17.78 \\\\\n",
       "diagnosis\\_Other      & -1.24 &       0.29 &      0.63 &           -2.46 &           -0.01 &                 0.09 &                 0.99 & -1.97 & 0.05 &      4.37 \\\\\n",
       "loc\\_Supratentorial   &  0.38 &       1.46 &      0.70 &           -0.99 &            1.74 &                 0.37 &                 5.72 &  0.54 & 0.59 &      0.76 \\\\\n",
       "stereo\\_SRT           &  0.14 &       1.15 &      0.60 &           -1.03 &            1.31 &                 0.36 &                 3.71 &  0.23 & 0.82 &      0.29 \\\\\n",
       "\\bottomrule\n",
       "\\end{tabular}\n"
      ],
      "text/plain": [
       "<lifelines.CoxPHFitter: fitted with 88 total observations, 53 right-censored observations>\n",
       "             duration col = 'time'\n",
       "                event col = 'status'\n",
       "      baseline estimation = breslow\n",
       "   number of observations = 88\n",
       "number of events observed = 35\n",
       "   partial log-likelihood = -118.41\n",
       "         time fit was run = 2021-11-19 22:44:14 UTC\n",
       "\n",
       "---\n",
       "                       coef  exp(coef)   se(coef)   coef lower 95%   coef upper 95%  exp(coef) lower 95%  exp(coef) upper 95%\n",
       "covariate                                                                                                                    \n",
       "ki                    -0.06       0.94       0.02            -0.09            -0.02                 0.91                 0.98\n",
       "gtv                    0.04       1.04       0.02            -0.01             0.08                 0.99                 1.08\n",
       "sex_Male               0.10       1.10       0.36            -0.61             0.80                 0.54                 2.24\n",
       "diagnosis_LG glioma   -1.09       0.34       0.57            -2.22             0.03                 0.11                 1.03\n",
       "diagnosis_Meningioma  -2.08       0.12       0.45            -2.97            -1.19                 0.05                 0.30\n",
       "diagnosis_Other       -1.24       0.29       0.63            -2.46            -0.01                 0.09                 0.99\n",
       "loc_Supratentorial     0.38       1.46       0.70            -0.99             1.74                 0.37                 5.72\n",
       "stereo_SRT             0.14       1.15       0.60            -1.03             1.31                 0.36                 3.71\n",
       "\n",
       "                         z      p   -log2(p)\n",
       "covariate                                   \n",
       "ki                   -3.16 <0.005       9.32\n",
       "gtv                   1.59   0.11       3.17\n",
       "sex_Male              0.27   0.79       0.35\n",
       "diagnosis_LG glioma  -1.90   0.06       4.13\n",
       "diagnosis_Meningioma -4.59 <0.005      17.78\n",
       "diagnosis_Other      -1.97   0.05       4.37\n",
       "loc_Supratentorial    0.54   0.59       0.76\n",
       "stereo_SRT            0.23   0.82       0.29\n",
       "---\n",
       "Concordance = 0.79\n",
       "Partial AIC = 252.82\n",
       "log-likelihood ratio test = 39.47 on 8 df\n",
       "-log2(p) of ll-ratio test = 17.93"
      ]
     },
     "metadata": {},
     "output_type": "display_data"
    }
   ],
   "source": [
    "from lifelines import CoxPHFitter\n",
    "cph = CoxPHFitter()\n",
    "cph.fit(dummies, duration_col='time', event_col='status', show_progress=False)\n",
    "\n",
    "cph.print_summary()"
   ]
  },
  {
   "cell_type": "markdown",
   "metadata": {},
   "source": [
    "The results indicate that the risk associated with meningioma is less than eight times (i.e. e2.08 = 8.004) the risk associated with HG giloma"
   ]
  },
  {
   "cell_type": "markdown",
   "metadata": {},
   "source": [
    "D)"
   ]
  },
  {
   "cell_type": "code",
   "execution_count": 83,
   "metadata": {},
   "outputs": [],
   "source": [
    "ki_strata = pd.qcut(x=brain_df['ki'], q=[0, .2, .4, .6, .8 ,1.],duplicates='drop')\n",
    "dummies['Ki_strata'] = ki_strata"
   ]
  },
  {
   "cell_type": "code",
   "execution_count": 84,
   "metadata": {},
   "outputs": [
    {
     "data": {
      "text/html": [
       "<div>\n",
       "<style scoped>\n",
       "    .dataframe tbody tr th:only-of-type {\n",
       "        vertical-align: middle;\n",
       "    }\n",
       "\n",
       "    .dataframe tbody tr th {\n",
       "        vertical-align: top;\n",
       "    }\n",
       "\n",
       "    .dataframe thead th {\n",
       "        text-align: right;\n",
       "    }\n",
       "</style>\n",
       "<table border=\"1\" class=\"dataframe\">\n",
       "  <thead>\n",
       "    <tr style=\"text-align: right;\">\n",
       "      <th></th>\n",
       "      <th>ki</th>\n",
       "      <th>gtv</th>\n",
       "      <th>status</th>\n",
       "      <th>time</th>\n",
       "      <th>sex_Male</th>\n",
       "      <th>diagnosis_LG glioma</th>\n",
       "      <th>diagnosis_Meningioma</th>\n",
       "      <th>diagnosis_Other</th>\n",
       "      <th>loc_Supratentorial</th>\n",
       "      <th>stereo_SRT</th>\n",
       "      <th>Ki_strata</th>\n",
       "    </tr>\n",
       "  </thead>\n",
       "  <tbody>\n",
       "    <tr>\n",
       "      <th>0</th>\n",
       "      <td>90</td>\n",
       "      <td>6.11</td>\n",
       "      <td>0</td>\n",
       "      <td>57.64</td>\n",
       "      <td>0</td>\n",
       "      <td>0</td>\n",
       "      <td>1</td>\n",
       "      <td>0</td>\n",
       "      <td>0</td>\n",
       "      <td>0</td>\n",
       "      <td>(80.0, 90.0]</td>\n",
       "    </tr>\n",
       "    <tr>\n",
       "      <th>1</th>\n",
       "      <td>90</td>\n",
       "      <td>19.35</td>\n",
       "      <td>1</td>\n",
       "      <td>8.98</td>\n",
       "      <td>1</td>\n",
       "      <td>0</td>\n",
       "      <td>0</td>\n",
       "      <td>0</td>\n",
       "      <td>1</td>\n",
       "      <td>1</td>\n",
       "      <td>(80.0, 90.0]</td>\n",
       "    </tr>\n",
       "    <tr>\n",
       "      <th>2</th>\n",
       "      <td>70</td>\n",
       "      <td>7.95</td>\n",
       "      <td>0</td>\n",
       "      <td>26.46</td>\n",
       "      <td>0</td>\n",
       "      <td>0</td>\n",
       "      <td>1</td>\n",
       "      <td>0</td>\n",
       "      <td>0</td>\n",
       "      <td>0</td>\n",
       "      <td>(39.999, 70.0]</td>\n",
       "    </tr>\n",
       "    <tr>\n",
       "      <th>3</th>\n",
       "      <td>80</td>\n",
       "      <td>7.61</td>\n",
       "      <td>1</td>\n",
       "      <td>47.80</td>\n",
       "      <td>0</td>\n",
       "      <td>1</td>\n",
       "      <td>0</td>\n",
       "      <td>0</td>\n",
       "      <td>1</td>\n",
       "      <td>1</td>\n",
       "      <td>(70.0, 80.0]</td>\n",
       "    </tr>\n",
       "    <tr>\n",
       "      <th>4</th>\n",
       "      <td>90</td>\n",
       "      <td>5.06</td>\n",
       "      <td>1</td>\n",
       "      <td>6.30</td>\n",
       "      <td>1</td>\n",
       "      <td>0</td>\n",
       "      <td>0</td>\n",
       "      <td>0</td>\n",
       "      <td>1</td>\n",
       "      <td>1</td>\n",
       "      <td>(80.0, 90.0]</td>\n",
       "    </tr>\n",
       "  </tbody>\n",
       "</table>\n",
       "</div>"
      ],
      "text/plain": [
       "   ki    gtv  status  ...  loc_Supratentorial  stereo_SRT       Ki_strata\n",
       "0  90   6.11       0  ...                   0           0    (80.0, 90.0]\n",
       "1  90  19.35       1  ...                   1           1    (80.0, 90.0]\n",
       "2  70   7.95       0  ...                   0           0  (39.999, 70.0]\n",
       "3  80   7.61       1  ...                   1           1    (70.0, 80.0]\n",
       "4  90   5.06       1  ...                   1           1    (80.0, 90.0]\n",
       "\n",
       "[5 rows x 11 columns]"
      ]
     },
     "execution_count": 84,
     "metadata": {},
     "output_type": "execute_result"
    }
   ],
   "source": [
    "dummies.head()"
   ]
  },
  {
   "cell_type": "code",
   "execution_count": 85,
   "metadata": {},
   "outputs": [],
   "source": [
    "dummies = dummies.drop('ki',axis=1)\n"
   ]
  },
  {
   "cell_type": "code",
   "execution_count": 86,
   "metadata": {},
   "outputs": [
    {
     "data": {
      "text/html": [
       "<div>\n",
       "<style scoped>\n",
       "    .dataframe tbody tr th:only-of-type {\n",
       "        vertical-align: middle;\n",
       "    }\n",
       "\n",
       "    .dataframe tbody tr th {\n",
       "        vertical-align: top;\n",
       "    }\n",
       "\n",
       "    .dataframe thead th {\n",
       "        text-align: right;\n",
       "    }\n",
       "</style>\n",
       "<table border=\"1\" class=\"dataframe\">\n",
       "  <tbody>\n",
       "    <tr>\n",
       "      <th>model</th>\n",
       "      <td>lifelines.CoxPHFitter</td>\n",
       "    </tr>\n",
       "    <tr>\n",
       "      <th>duration col</th>\n",
       "      <td>'time'</td>\n",
       "    </tr>\n",
       "    <tr>\n",
       "      <th>event col</th>\n",
       "      <td>'status'</td>\n",
       "    </tr>\n",
       "    <tr>\n",
       "      <th>strata</th>\n",
       "      <td>[Ki_strata]</td>\n",
       "    </tr>\n",
       "    <tr>\n",
       "      <th>baseline estimation</th>\n",
       "      <td>breslow</td>\n",
       "    </tr>\n",
       "    <tr>\n",
       "      <th>number of observations</th>\n",
       "      <td>88</td>\n",
       "    </tr>\n",
       "    <tr>\n",
       "      <th>number of events observed</th>\n",
       "      <td>35</td>\n",
       "    </tr>\n",
       "    <tr>\n",
       "      <th>partial log-likelihood</th>\n",
       "      <td>-82.47</td>\n",
       "    </tr>\n",
       "    <tr>\n",
       "      <th>time fit was run</th>\n",
       "      <td>2021-11-19 22:44:16 UTC</td>\n",
       "    </tr>\n",
       "  </tbody>\n",
       "</table>\n",
       "</div><table border=\"1\" class=\"dataframe\">\n",
       "  <thead>\n",
       "    <tr style=\"text-align: right;\">\n",
       "      <th style=\"min-width: 12px;\"></th>\n",
       "      <th style=\"min-width: 12px;\">coef</th>\n",
       "      <th style=\"min-width: 12px;\">exp(coef)</th>\n",
       "      <th style=\"min-width: 12px;\">se(coef)</th>\n",
       "      <th style=\"min-width: 12px;\">coef lower 95%</th>\n",
       "      <th style=\"min-width: 12px;\">coef upper 95%</th>\n",
       "      <th style=\"min-width: 12px;\">exp(coef) lower 95%</th>\n",
       "      <th style=\"min-width: 12px;\">exp(coef) upper 95%</th>\n",
       "      <th style=\"min-width: 12px;\">z</th>\n",
       "      <th style=\"min-width: 12px;\">p</th>\n",
       "      <th style=\"min-width: 12px;\">-log2(p)</th>\n",
       "    </tr>\n",
       "  </thead>\n",
       "  <tbody>\n",
       "    <tr>\n",
       "      <th>gtv</th>\n",
       "      <td>0.04</td>\n",
       "      <td>1.04</td>\n",
       "      <td>0.02</td>\n",
       "      <td>-0.01</td>\n",
       "      <td>0.08</td>\n",
       "      <td>0.99</td>\n",
       "      <td>1.09</td>\n",
       "      <td>1.60</td>\n",
       "      <td>0.11</td>\n",
       "      <td>3.18</td>\n",
       "    </tr>\n",
       "    <tr>\n",
       "      <th>sex_Male</th>\n",
       "      <td>0.30</td>\n",
       "      <td>1.35</td>\n",
       "      <td>0.39</td>\n",
       "      <td>-0.46</td>\n",
       "      <td>1.06</td>\n",
       "      <td>0.63</td>\n",
       "      <td>2.88</td>\n",
       "      <td>0.78</td>\n",
       "      <td>0.44</td>\n",
       "      <td>1.20</td>\n",
       "    </tr>\n",
       "    <tr>\n",
       "      <th>diagnosis_LG glioma</th>\n",
       "      <td>-1.30</td>\n",
       "      <td>0.27</td>\n",
       "      <td>0.62</td>\n",
       "      <td>-2.51</td>\n",
       "      <td>-0.10</td>\n",
       "      <td>0.08</td>\n",
       "      <td>0.91</td>\n",
       "      <td>-2.12</td>\n",
       "      <td>0.03</td>\n",
       "      <td>4.88</td>\n",
       "    </tr>\n",
       "    <tr>\n",
       "      <th>diagnosis_Meningioma</th>\n",
       "      <td>-2.21</td>\n",
       "      <td>0.11</td>\n",
       "      <td>0.51</td>\n",
       "      <td>-3.20</td>\n",
       "      <td>-1.22</td>\n",
       "      <td>0.04</td>\n",
       "      <td>0.30</td>\n",
       "      <td>-4.37</td>\n",
       "      <td>&lt;0.005</td>\n",
       "      <td>16.27</td>\n",
       "    </tr>\n",
       "    <tr>\n",
       "      <th>diagnosis_Other</th>\n",
       "      <td>-0.92</td>\n",
       "      <td>0.40</td>\n",
       "      <td>0.63</td>\n",
       "      <td>-2.16</td>\n",
       "      <td>0.32</td>\n",
       "      <td>0.12</td>\n",
       "      <td>1.38</td>\n",
       "      <td>-1.46</td>\n",
       "      <td>0.15</td>\n",
       "      <td>2.78</td>\n",
       "    </tr>\n",
       "    <tr>\n",
       "      <th>loc_Supratentorial</th>\n",
       "      <td>0.71</td>\n",
       "      <td>2.04</td>\n",
       "      <td>0.76</td>\n",
       "      <td>-0.78</td>\n",
       "      <td>2.20</td>\n",
       "      <td>0.46</td>\n",
       "      <td>9.05</td>\n",
       "      <td>0.94</td>\n",
       "      <td>0.35</td>\n",
       "      <td>1.52</td>\n",
       "    </tr>\n",
       "    <tr>\n",
       "      <th>stereo_SRT</th>\n",
       "      <td>-0.03</td>\n",
       "      <td>0.97</td>\n",
       "      <td>0.62</td>\n",
       "      <td>-1.25</td>\n",
       "      <td>1.19</td>\n",
       "      <td>0.29</td>\n",
       "      <td>3.30</td>\n",
       "      <td>-0.05</td>\n",
       "      <td>0.96</td>\n",
       "      <td>0.05</td>\n",
       "    </tr>\n",
       "  </tbody>\n",
       "</table><br><div>\n",
       "<style scoped>\n",
       "    .dataframe tbody tr th:only-of-type {\n",
       "        vertical-align: middle;\n",
       "    }\n",
       "\n",
       "    .dataframe tbody tr th {\n",
       "        vertical-align: top;\n",
       "    }\n",
       "\n",
       "    .dataframe thead th {\n",
       "        text-align: right;\n",
       "    }\n",
       "</style>\n",
       "<table border=\"1\" class=\"dataframe\">\n",
       "  <tbody>\n",
       "    <tr>\n",
       "      <th>Concordance</th>\n",
       "      <td>0.75</td>\n",
       "    </tr>\n",
       "    <tr>\n",
       "      <th>Partial AIC</th>\n",
       "      <td>178.93</td>\n",
       "    </tr>\n",
       "    <tr>\n",
       "      <th>log-likelihood ratio test</th>\n",
       "      <td>30.87 on 7 df</td>\n",
       "    </tr>\n",
       "    <tr>\n",
       "      <th>-log2(p) of ll-ratio test</th>\n",
       "      <td>13.89</td>\n",
       "    </tr>\n",
       "  </tbody>\n",
       "</table>\n",
       "</div>"
      ],
      "text/latex": [
       "\\begin{tabular}{lrrrrrrrrrr}\n",
       "\\toprule\n",
       "{} &  coef &  exp(coef) &  se(coef) &  coef lower 95\\% &  coef upper 95\\% &  exp(coef) lower 95\\% &  exp(coef) upper 95\\% &     z &    p &  -log2(p) \\\\\n",
       "covariate            &       &            &           &                 &                 &                      &                      &       &      &           \\\\\n",
       "\\midrule\n",
       "gtv                  &  0.04 &       1.04 &      0.02 &           -0.01 &            0.08 &                 0.99 &                 1.09 &  1.60 & 0.11 &      3.18 \\\\\n",
       "sex\\_Male             &  0.30 &       1.35 &      0.39 &           -0.46 &            1.06 &                 0.63 &                 2.88 &  0.78 & 0.44 &      1.20 \\\\\n",
       "diagnosis\\_LG glioma  & -1.30 &       0.27 &      0.62 &           -2.51 &           -0.10 &                 0.08 &                 0.91 & -2.12 & 0.03 &      4.88 \\\\\n",
       "diagnosis\\_Meningioma & -2.21 &       0.11 &      0.51 &           -3.20 &           -1.22 &                 0.04 &                 0.30 & -4.37 & 0.00 &     16.27 \\\\\n",
       "diagnosis\\_Other      & -0.92 &       0.40 &      0.63 &           -2.16 &            0.32 &                 0.12 &                 1.38 & -1.46 & 0.15 &      2.78 \\\\\n",
       "loc\\_Supratentorial   &  0.71 &       2.04 &      0.76 &           -0.78 &            2.20 &                 0.46 &                 9.05 &  0.94 & 0.35 &      1.52 \\\\\n",
       "stereo\\_SRT           & -0.03 &       0.97 &      0.62 &           -1.25 &            1.19 &                 0.29 &                 3.30 & -0.05 & 0.96 &      0.05 \\\\\n",
       "\\bottomrule\n",
       "\\end{tabular}\n"
      ],
      "text/plain": [
       "<lifelines.CoxPHFitter: fitted with 88 total observations, 53 right-censored observations>\n",
       "             duration col = 'time'\n",
       "                event col = 'status'\n",
       "                   strata = ['Ki_strata']\n",
       "      baseline estimation = breslow\n",
       "   number of observations = 88\n",
       "number of events observed = 35\n",
       "   partial log-likelihood = -82.47\n",
       "         time fit was run = 2021-11-19 22:44:16 UTC\n",
       "\n",
       "---\n",
       "                       coef  exp(coef)   se(coef)   coef lower 95%   coef upper 95%  exp(coef) lower 95%  exp(coef) upper 95%\n",
       "covariate                                                                                                                    \n",
       "gtv                    0.04       1.04       0.02            -0.01             0.08                 0.99                 1.09\n",
       "sex_Male               0.30       1.35       0.39            -0.46             1.06                 0.63                 2.88\n",
       "diagnosis_LG glioma   -1.30       0.27       0.62            -2.51            -0.10                 0.08                 0.91\n",
       "diagnosis_Meningioma  -2.21       0.11       0.51            -3.20            -1.22                 0.04                 0.30\n",
       "diagnosis_Other       -0.92       0.40       0.63            -2.16             0.32                 0.12                 1.38\n",
       "loc_Supratentorial     0.71       2.04       0.76            -0.78             2.20                 0.46                 9.05\n",
       "stereo_SRT            -0.03       0.97       0.62            -1.25             1.19                 0.29                 3.30\n",
       "\n",
       "                         z      p   -log2(p)\n",
       "covariate                                   \n",
       "gtv                   1.60   0.11       3.18\n",
       "sex_Male              0.78   0.44       1.20\n",
       "diagnosis_LG glioma  -2.12   0.03       4.88\n",
       "diagnosis_Meningioma -4.37 <0.005      16.27\n",
       "diagnosis_Other      -1.46   0.15       2.78\n",
       "loc_Supratentorial    0.94   0.35       1.52\n",
       "stereo_SRT           -0.05   0.96       0.05\n",
       "---\n",
       "Concordance = 0.75\n",
       "Partial AIC = 178.93\n",
       "log-likelihood ratio test = 30.87 on 7 df\n",
       "-log2(p) of ll-ratio test = 13.89"
      ]
     },
     "metadata": {},
     "output_type": "display_data"
    }
   ],
   "source": [
    "cph_model = CoxPHFitter(strata=['Ki_strata'])\n",
    "cph_model.fit(dummies, duration_col='time', event_col='status', show_progress=False)\n",
    "\n",
    "cph_model.print_summary()\n"
   ]
  },
  {
   "cell_type": "code",
   "execution_count": 90,
   "metadata": {},
   "outputs": [
    {
     "data": {
      "text/plain": [
       "<matplotlib.axes._subplots.AxesSubplot at 0x1a23674dd0>"
      ]
     },
     "execution_count": 90,
     "metadata": {},
     "output_type": "execute_result"
    },
    {
     "data": {
      "image/png": "[encoded data removed]",
      "text/plain": [
       "<Figure size 432x288 with 1 Axes>"
      ]
     },
     "metadata": {
      "needs_background": "light"
     },
     "output_type": "display_data"
    }
   ],
   "source": [
    "cph_model.plot()"
   ]
  },
  {
   "cell_type": "markdown",
   "metadata": {},
   "source": [
    "### Question11:"
   ]
  },
  {
   "cell_type": "code",
   "execution_count": 91,
   "metadata": {},
   "outputs": [
    {
     "data": {
      "text/html": [
       "<div>\n",
       "<style scoped>\n",
       "    .dataframe tbody tr th:only-of-type {\n",
       "        vertical-align: middle;\n",
       "    }\n",
       "\n",
       "    .dataframe tbody tr th {\n",
       "        vertical-align: top;\n",
       "    }\n",
       "\n",
       "    .dataframe thead th {\n",
       "        text-align: right;\n",
       "    }\n",
       "</style>\n",
       "<table border=\"1\" class=\"dataframe\">\n",
       "  <thead>\n",
       "    <tr style=\"text-align: right;\">\n",
       "      <th></th>\n",
       "      <th>Time</th>\n",
       "      <th>Dead</th>\n",
       "      <th>Covariate(x)</th>\n",
       "    </tr>\n",
       "  </thead>\n",
       "  <tbody>\n",
       "    <tr>\n",
       "      <th>0</th>\n",
       "      <td>26.5</td>\n",
       "      <td>1</td>\n",
       "      <td>0.1</td>\n",
       "    </tr>\n",
       "    <tr>\n",
       "      <th>1</th>\n",
       "      <td>37.2</td>\n",
       "      <td>1</td>\n",
       "      <td>11.0</td>\n",
       "    </tr>\n",
       "    <tr>\n",
       "      <th>2</th>\n",
       "      <td>57.3</td>\n",
       "      <td>1</td>\n",
       "      <td>-0.3</td>\n",
       "    </tr>\n",
       "    <tr>\n",
       "      <th>3</th>\n",
       "      <td>90.8</td>\n",
       "      <td>0</td>\n",
       "      <td>2.8</td>\n",
       "    </tr>\n",
       "    <tr>\n",
       "      <th>4</th>\n",
       "      <td>20.2</td>\n",
       "      <td>0</td>\n",
       "      <td>1.8</td>\n",
       "    </tr>\n",
       "    <tr>\n",
       "      <th>5</th>\n",
       "      <td>89.8</td>\n",
       "      <td>0</td>\n",
       "      <td>0.4</td>\n",
       "    </tr>\n",
       "  </tbody>\n",
       "</table>\n",
       "</div>"
      ],
      "text/plain": [
       "   Time  Dead  Covariate(x)\n",
       "0  26.5     1           0.1\n",
       "1  37.2     1          11.0\n",
       "2  57.3     1          -0.3\n",
       "3  90.8     0           2.8\n",
       "4  20.2     0           1.8\n",
       "5  89.8     0           0.4"
      ]
     },
     "execution_count": 91,
     "metadata": {},
     "output_type": "execute_result"
    }
   ],
   "source": [
    "data ={'Time':[26.5,37.2,57.3,90.8,20.2,89.8],'Dead':[1,1,1,0,0,0],'Covariate(x)':[0.1,11,-0.3,2.8,1.8,0.4]}\n",
    "df = pd.DataFrame(data)\n",
    "df.head(10)"
   ]
  },
  {
   "cell_type": "markdown",
   "metadata": {},
   "source": [
    "A"
   ]
  },
  {
   "cell_type": "code",
   "execution_count": 94,
   "metadata": {},
   "outputs": [
    {
     "data": {
      "text/plain": [
       "<matplotlib.axes._subplots.AxesSubplot at 0x1a22fe31d0>"
      ]
     },
     "execution_count": 94,
     "metadata": {},
     "output_type": "execute_result"
    },
    {
     "data": {
      "image/png": "[encoded data removed]",
      "text/plain": [
       "<Figure size 432x288 with 1 Axes>"
      ]
     },
     "metadata": {
      "needs_background": "light"
     },
     "output_type": "display_data"
    }
   ],
   "source": [
    "groups = df['Covariate(x)']\n",
    "T = df['Time']\n",
    "E = df['Dead']\n",
    "i1 = (groups <2)\n",
    "i2= (groups>=2)\n",
    "kmf1 = KaplanMeierFitter()\n",
    "kmf1.fit(T[i1], E[i1], label='Group1')\n",
    "a1 = kmf1.plot(ci_show=False)\n",
    "\n",
    "## fit the model for 2nd cohort\n",
    "kmf1.fit(T[i2], E[i2], label='Group2')\n",
    "kmf1.plot(ax=a1,ci_show=False)"
   ]
  },
  {
   "cell_type": "markdown",
   "metadata": {},
   "source": [
    "By eye there is a diiference between the 2 curves."
   ]
  },
  {
   "cell_type": "code",
   "execution_count": 95,
   "metadata": {},
   "outputs": [],
   "source": [
    "df['group']=df['Covariate(x)'].apply(lambda x:0 if x<2 else 1)"
   ]
  },
  {
   "cell_type": "markdown",
   "metadata": {},
   "source": [
    "B)"
   ]
  },
  {
   "cell_type": "code",
   "execution_count": 97,
   "metadata": {},
   "outputs": [],
   "source": [
    "cox_df = df.drop('Covariate(x)',axis=1)"
   ]
  },
  {
   "cell_type": "code",
   "execution_count": 99,
   "metadata": {},
   "outputs": [
    {
     "data": {
      "text/html": [
       "<div>\n",
       "<style scoped>\n",
       "    .dataframe tbody tr th:only-of-type {\n",
       "        vertical-align: middle;\n",
       "    }\n",
       "\n",
       "    .dataframe tbody tr th {\n",
       "        vertical-align: top;\n",
       "    }\n",
       "\n",
       "    .dataframe thead th {\n",
       "        text-align: right;\n",
       "    }\n",
       "</style>\n",
       "<table border=\"1\" class=\"dataframe\">\n",
       "  <thead>\n",
       "    <tr style=\"text-align: right;\">\n",
       "      <th></th>\n",
       "      <th>Time</th>\n",
       "      <th>Dead</th>\n",
       "      <th>group</th>\n",
       "    </tr>\n",
       "  </thead>\n",
       "  <tbody>\n",
       "    <tr>\n",
       "      <th>0</th>\n",
       "      <td>26.5</td>\n",
       "      <td>1</td>\n",
       "      <td>0</td>\n",
       "    </tr>\n",
       "    <tr>\n",
       "      <th>1</th>\n",
       "      <td>37.2</td>\n",
       "      <td>1</td>\n",
       "      <td>1</td>\n",
       "    </tr>\n",
       "    <tr>\n",
       "      <th>2</th>\n",
       "      <td>57.3</td>\n",
       "      <td>1</td>\n",
       "      <td>0</td>\n",
       "    </tr>\n",
       "    <tr>\n",
       "      <th>3</th>\n",
       "      <td>90.8</td>\n",
       "      <td>0</td>\n",
       "      <td>1</td>\n",
       "    </tr>\n",
       "    <tr>\n",
       "      <th>4</th>\n",
       "      <td>20.2</td>\n",
       "      <td>0</td>\n",
       "      <td>0</td>\n",
       "    </tr>\n",
       "    <tr>\n",
       "      <th>5</th>\n",
       "      <td>89.8</td>\n",
       "      <td>0</td>\n",
       "      <td>0</td>\n",
       "    </tr>\n",
       "  </tbody>\n",
       "</table>\n",
       "</div>"
      ],
      "text/plain": [
       "   Time  Dead  group\n",
       "0  26.5     1      0\n",
       "1  37.2     1      1\n",
       "2  57.3     1      0\n",
       "3  90.8     0      1\n",
       "4  20.2     0      0\n",
       "5  89.8     0      0"
      ]
     },
     "execution_count": 99,
     "metadata": {},
     "output_type": "execute_result"
    }
   ],
   "source": [
    "cox_df"
   ]
  },
  {
   "cell_type": "code",
   "execution_count": 100,
   "metadata": {},
   "outputs": [
    {
     "data": {
      "text/html": [
       "<div>\n",
       "<style scoped>\n",
       "    .dataframe tbody tr th:only-of-type {\n",
       "        vertical-align: middle;\n",
       "    }\n",
       "\n",
       "    .dataframe tbody tr th {\n",
       "        vertical-align: top;\n",
       "    }\n",
       "\n",
       "    .dataframe thead th {\n",
       "        text-align: right;\n",
       "    }\n",
       "</style>\n",
       "<table border=\"1\" class=\"dataframe\">\n",
       "  <tbody>\n",
       "    <tr>\n",
       "      <th>model</th>\n",
       "      <td>lifelines.CoxPHFitter</td>\n",
       "    </tr>\n",
       "    <tr>\n",
       "      <th>duration col</th>\n",
       "      <td>'Time'</td>\n",
       "    </tr>\n",
       "    <tr>\n",
       "      <th>event col</th>\n",
       "      <td>'Dead'</td>\n",
       "    </tr>\n",
       "    <tr>\n",
       "      <th>baseline estimation</th>\n",
       "      <td>breslow</td>\n",
       "    </tr>\n",
       "    <tr>\n",
       "      <th>number of observations</th>\n",
       "      <td>6</td>\n",
       "    </tr>\n",
       "    <tr>\n",
       "      <th>number of events observed</th>\n",
       "      <td>3</td>\n",
       "    </tr>\n",
       "    <tr>\n",
       "      <th>partial log-likelihood</th>\n",
       "      <td>-4.06</td>\n",
       "    </tr>\n",
       "    <tr>\n",
       "      <th>time fit was run</th>\n",
       "      <td>2021-11-19 23:04:30 UTC</td>\n",
       "    </tr>\n",
       "  </tbody>\n",
       "</table>\n",
       "</div><table border=\"1\" class=\"dataframe\">\n",
       "  <thead>\n",
       "    <tr style=\"text-align: right;\">\n",
       "      <th style=\"min-width: 12px;\"></th>\n",
       "      <th style=\"min-width: 12px;\">coef</th>\n",
       "      <th style=\"min-width: 12px;\">exp(coef)</th>\n",
       "      <th style=\"min-width: 12px;\">se(coef)</th>\n",
       "      <th style=\"min-width: 12px;\">coef lower 95%</th>\n",
       "      <th style=\"min-width: 12px;\">coef upper 95%</th>\n",
       "      <th style=\"min-width: 12px;\">exp(coef) lower 95%</th>\n",
       "      <th style=\"min-width: 12px;\">exp(coef) upper 95%</th>\n",
       "      <th style=\"min-width: 12px;\">z</th>\n",
       "      <th style=\"min-width: 12px;\">p</th>\n",
       "      <th style=\"min-width: 12px;\">-log2(p)</th>\n",
       "    </tr>\n",
       "  </thead>\n",
       "  <tbody>\n",
       "    <tr>\n",
       "      <th>group</th>\n",
       "      <td>-0.34</td>\n",
       "      <td>0.71</td>\n",
       "      <td>1.24</td>\n",
       "      <td>-2.76</td>\n",
       "      <td>2.08</td>\n",
       "      <td>0.06</td>\n",
       "      <td>8.02</td>\n",
       "      <td>-0.28</td>\n",
       "      <td>0.78</td>\n",
       "      <td>0.35</td>\n",
       "    </tr>\n",
       "  </tbody>\n",
       "</table><br><div>\n",
       "<style scoped>\n",
       "    .dataframe tbody tr th:only-of-type {\n",
       "        vertical-align: middle;\n",
       "    }\n",
       "\n",
       "    .dataframe tbody tr th {\n",
       "        vertical-align: top;\n",
       "    }\n",
       "\n",
       "    .dataframe thead th {\n",
       "        text-align: right;\n",
       "    }\n",
       "</style>\n",
       "<table border=\"1\" class=\"dataframe\">\n",
       "  <tbody>\n",
       "    <tr>\n",
       "      <th>Concordance</th>\n",
       "      <td>0.56</td>\n",
       "    </tr>\n",
       "    <tr>\n",
       "      <th>Partial AIC</th>\n",
       "      <td>10.11</td>\n",
       "    </tr>\n",
       "    <tr>\n",
       "      <th>log-likelihood ratio test</th>\n",
       "      <td>0.08 on 1 df</td>\n",
       "    </tr>\n",
       "    <tr>\n",
       "      <th>-log2(p) of ll-ratio test</th>\n",
       "      <td>0.36</td>\n",
       "    </tr>\n",
       "  </tbody>\n",
       "</table>\n",
       "</div>"
      ],
      "text/latex": [
       "\\begin{tabular}{lrrrrrrrrrr}\n",
       "\\toprule\n",
       "{} &  coef &  exp(coef) &  se(coef) &  coef lower 95\\% &  coef upper 95\\% &  exp(coef) lower 95\\% &  exp(coef) upper 95\\% &     z &    p &  -log2(p) \\\\\n",
       "covariate &       &            &           &                 &                 &                      &                      &       &      &           \\\\\n",
       "\\midrule\n",
       "group     & -0.34 &       0.71 &      1.24 &           -2.76 &            2.08 &                 0.06 &                 8.02 & -0.28 & 0.78 &      0.35 \\\\\n",
       "\\bottomrule\n",
       "\\end{tabular}\n"
      ],
      "text/plain": [
       "<lifelines.CoxPHFitter: fitted with 6 total observations, 3 right-censored observations>\n",
       "             duration col = 'Time'\n",
       "                event col = 'Dead'\n",
       "      baseline estimation = breslow\n",
       "   number of observations = 6\n",
       "number of events observed = 3\n",
       "   partial log-likelihood = -4.06\n",
       "         time fit was run = 2021-11-19 23:04:30 UTC\n",
       "\n",
       "---\n",
       "            coef  exp(coef)   se(coef)   coef lower 95%   coef upper 95%  exp(coef) lower 95%  exp(coef) upper 95%\n",
       "covariate                                                                                                         \n",
       "group      -0.34       0.71       1.24            -2.76             2.08                 0.06                 8.02\n",
       "\n",
       "              z    p   -log2(p)\n",
       "covariate                      \n",
       "group     -0.28 0.78       0.35\n",
       "---\n",
       "Concordance = 0.56\n",
       "Partial AIC = 10.11\n",
       "log-likelihood ratio test = 0.08 on 1 df\n",
       "-log2(p) of ll-ratio test = 0.36"
      ]
     },
     "metadata": {},
     "output_type": "display_data"
    }
   ],
   "source": [
    "cph = CoxPHFitter()\n",
    "cph.fit(cox_df, duration_col='Time', event_col='Dead', show_progress=False)\n",
    "\n",
    "cph.print_summary()"
   ]
  },
  {
   "cell_type": "markdown",
   "metadata": {},
   "source": [
    "Estimated coefficient =-0.34\n",
    "\n",
    "It means that the risk associated group 2 with Covariate(x)>2 is less by a factor of 1.4 than group 1.\n",
    "\n",
    "Yes there is an evidence that the coefficient equals zero because the p-value of this variable is insignificant so there is no evidence that it affects the hazard."
   ]
  },
  {
   "cell_type": "markdown",
   "metadata": {},
   "source": [
    "C)"
   ]
  },
  {
   "cell_type": "code",
   "execution_count": 101,
   "metadata": {},
   "outputs": [
    {
     "data": {
      "text/html": [
       "<div>\n",
       "<style scoped>\n",
       "    .dataframe tbody tr th:only-of-type {\n",
       "        vertical-align: middle;\n",
       "    }\n",
       "\n",
       "    .dataframe tbody tr th {\n",
       "        vertical-align: top;\n",
       "    }\n",
       "\n",
       "    .dataframe thead th {\n",
       "        text-align: right;\n",
       "    }\n",
       "</style>\n",
       "<table border=\"1\" class=\"dataframe\">\n",
       "  <tbody>\n",
       "    <tr>\n",
       "      <th>t_0</th>\n",
       "      <td>-1</td>\n",
       "    </tr>\n",
       "    <tr>\n",
       "      <th>null_distribution</th>\n",
       "      <td>chi squared</td>\n",
       "    </tr>\n",
       "    <tr>\n",
       "      <th>degrees_of_freedom</th>\n",
       "      <td>1</td>\n",
       "    </tr>\n",
       "    <tr>\n",
       "      <th>alpha</th>\n",
       "      <td>0.99</td>\n",
       "    </tr>\n",
       "    <tr>\n",
       "      <th>test_name</th>\n",
       "      <td>logrank_test</td>\n",
       "    </tr>\n",
       "  </tbody>\n",
       "</table>\n",
       "</div><table border=\"1\" class=\"dataframe\">\n",
       "  <thead>\n",
       "    <tr style=\"text-align: right;\">\n",
       "      <th></th>\n",
       "      <th>test_statistic</th>\n",
       "      <th>p</th>\n",
       "      <th>-log2(p)</th>\n",
       "    </tr>\n",
       "  </thead>\n",
       "  <tbody>\n",
       "    <tr>\n",
       "      <th>0</th>\n",
       "      <td>0.08</td>\n",
       "      <td>0.78</td>\n",
       "      <td>0.35</td>\n",
       "    </tr>\n",
       "  </tbody>\n",
       "</table>"
      ],
      "text/latex": [
       "\\begin{tabular}{lrrr}\n",
       "\\toprule\n",
       "{} &  test\\_statistic &         p &  -log2(p) \\\\\n",
       "\\midrule\n",
       "0 &        0.076443 &  0.782177 &  0.354433 \\\\\n",
       "\\bottomrule\n",
       "\\end{tabular}\n"
      ],
      "text/plain": [
       "<lifelines.StatisticalResult: logrank_test>\n",
       "               t_0 = -1\n",
       " null_distribution = chi squared\n",
       "degrees_of_freedom = 1\n",
       "             alpha = 0.99\n",
       "         test_name = logrank_test\n",
       "\n",
       "---\n",
       " test_statistic    p  -log2(p)\n",
       "           0.08 0.78      0.35"
      ]
     },
     "metadata": {},
     "output_type": "display_data"
    }
   ],
   "source": [
    "from lifelines.statistics import logrank_test\n",
    "results = logrank_test(T[i1], T[i2], E[i1], E[i2], alpha=.99)\n",
    "results.print_summary()\n"
   ]
  },
  {
   "cell_type": "markdown",
   "metadata": {},
   "source": [
    "##### p value is the same for both."
   ]
  },
  {
   "cell_type": "code",
   "execution_count": null,
   "metadata": {},
   "outputs": [],
   "source": []
  }
 ],
 "metadata": {
  "kernelspec": {
   "display_name": "Python 3",
   "language": "python",
   "name": "python3"
  },
  "language_info": {
   "codemirror_mode": {
    "name": "ipython",
    "version": 3
   },
   "file_extension": ".py",
   "mimetype": "text/x-python",
   "name": "python",
   "nbconvert_exporter": "python",
   "pygments_lexer": "ipython3",
   "version": "3.7.7"
  }
 },
 "nbformat": 4,
 "nbformat_minor": 4
}

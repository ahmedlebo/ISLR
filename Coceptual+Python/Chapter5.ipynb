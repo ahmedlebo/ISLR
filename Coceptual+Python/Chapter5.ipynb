{
 "cells": [
  {
   "cell_type": "markdown",
   "metadata": {},
   "source": [
    "# Conceptual"
   ]
  },
  {
   "cell_type": "markdown",
   "metadata": {},
   "source": [
    "### Question1:"
   ]
  },
  {
   "cell_type": "markdown",
   "metadata": {},
   "source": [
    "$$ Var(\\alpha X +(1-\\alpha) Y)=\\alpha^{2}*Var(X)+(1-\\alpha)^{2}*Var(Y)+2\\alpha(1-\\alpha)*Cov(X,Y) $$\n",
    "$$ =\\alpha^{2}*\\sigma_{X}^{2}+(1-\\alpha)^{2}*\\sigma_{Y}^{2}+2\\alpha(1-\\alpha)*\\sigma_{XY} $$\n",
    "$$ =\\alpha^{2}*\\sigma_{X}^{2}+(1-2*\\alpha+\\alpha^{2})*\\sigma_{Y}^{2}+2(\\alpha-\\alpha^{2})*\\sigma_{XY} $$\n",
    "We now take the fist derivative of Var(αX+(1−α)Y) relative to α and equals it to 0 to get points where the values for Var(αX+(1−α)Y) is minimum \n",
    "$$ \\frac{\\partial}{\\partial(\\alpha)}Var(\\alpha X +(1-\\alpha) Y)=2\\alpha*\\sigma_{X}^{2}+(-2+2\\alpha)*\\sigma_{Y}^{2}+2(1-2\\alpha)*\\sigma_{XY} $$\n",
    "$$ =2\\alpha(\\sigma_{X}^{2}+\\sigma_{Y}^{2}-2\\sigma_{XY})-2(\\sigma_{Y}^{2}- \\sigma_{XY})=0$$\n",
    "\n",
    "$$ \\alpha=\\frac{(\\sigma_{Y}^{2}- \\sigma_{XY})}{(\\sigma_{X}^{2}+\\sigma_{Y}^{2}-2\\sigma_{XY})}$$\n",
    "To check if this value is minimum we will take the second derivative of Var(αX+(1−α)Y)\n",
    "$$ \\frac{\\partial^{2}}{\\partial\\alpha^{2}}Var(\\alpha X +(1-\\alpha) Y) =2(\\sigma_{X}^{2}+\\sigma_{Y}^{2}-2\\sigma_{XY})$$\n",
    "$$=2Var(X-Y)>=0$$"
   ]
  },
  {
   "cell_type": "markdown",
   "metadata": {},
   "source": [
    "### Question2:"
   ]
  },
  {
   "cell_type": "markdown",
   "metadata": {},
   "source": [
    "$$a)1-1/n$$\n",
    "$$b)1-1/n$$\n",
    "$$c)\\space As\\space bootstrapping\\space sample\\space with\\space replacement,\\space we\\space have\\space that\\space the\\space probability\\space that\\space the\\space jth\\space observation\\space is\\space not\\space in\\space the\\space bootstrap\\space sample\\space is\\space the\\space product\\space of\\space the\\space probabilities\\space that\\space each\\space bootstrap\\space observation\\space is\\space not\\space the\\space jth\\space observation\\space from\\space the\\space original\\space sample$$\n",
    "$$(1−1/n)⋯(1−1/n)=(1−1/n)^{n}$$\n",
    "$$d)1-(1-1/5)^{5}=0.67232$$\n",
    "$$e)1-(1-1/100)^{100}=0.634$$\n",
    "$$e)1-(1-1/10000)^{10000}=0.632$$"
   ]
  },
  {
   "cell_type": "code",
   "execution_count": 117,
   "metadata": {},
   "outputs": [],
   "source": [
    "import numpy as np\n",
    "import matplotlib.pyplot as plt\n",
    "%matplotlib inline"
   ]
  },
  {
   "cell_type": "code",
   "execution_count": 118,
   "metadata": {},
   "outputs": [],
   "source": [
    "x=list(np.arange(1,100000,1))\n"
   ]
  },
  {
   "cell_type": "code",
   "execution_count": 119,
   "metadata": {},
   "outputs": [],
   "source": [
    "y=[1-((1-1/i)**i) for i in x]\n"
   ]
  },
  {
   "cell_type": "code",
   "execution_count": 120,
   "metadata": {},
   "outputs": [
    {
     "data": {
      "image/png": "[encoded data removed]",
      "text/plain": [
       "<Figure size 864x720 with 1 Axes>"
      ]
     },
     "metadata": {
      "needs_background": "light"
     },
     "output_type": "display_data"
    }
   ],
   "source": [
    "plt.figure(figsize=(12,10))\n",
    "plt.scatter(x,y)\n",
    "plt.title(\"Probability of jth observation in the bootstrap sample vs n \")\n",
    "plt.show()"
   ]
  },
  {
   "cell_type": "code",
   "execution_count": 121,
   "metadata": {},
   "outputs": [
    {
     "name": "stdout",
     "output_type": "stream",
     "text": [
      "0.6274\n"
     ]
    }
   ],
   "source": [
    "#H)\n",
    "import random\n",
    "random.seed(60)#to generate the same output each time\n",
    "n = 100\n",
    "N = 10000\n",
    "count = 0\n",
    "\n",
    "for i in range(N):\n",
    "    \n",
    "    count += 4 in random.choices(range(1,n+1), k=n) #1 if 4 in the bootstrap sample 0 otherwise\n",
    "\n",
    "print(count/N)"
   ]
  },
  {
   "cell_type": "markdown",
   "metadata": {},
   "source": [
    "### Question3:"
   ]
  },
  {
   "cell_type": "markdown",
   "metadata": {},
   "source": [
    "##### a)The k-fold cross validation algorithm steps:\n",
    "- Splitting n observations into k non-overlapping groups of length (n/k) approximately.\n",
    "- Fit our model with dataset of length (n−n/k) acts as a training set and the left-out dataset with n/k observations as our validation set.\n",
    "- For each of these k model fits, we use the left-out fold to calculate the validation error. Finally, the average of the k validation errors is the estimate of the test error.\n"
   ]
  },
  {
   "cell_type": "markdown",
   "metadata": {},
   "source": [
    "##### b)\n",
    "###### i)The k-fold cross validation vs validation set approach:\n",
    "Advantages of validation set: \n",
    "- Requires less computation. \n",
    "- Simpler and easier to implement.\n",
    "\n",
    "\n",
    "Disadvantages of Validation set: \n",
    "- The validation set approach tends to overestimate the test error since it only uses half the sample to fit the model (in general a larger sample size leads to lower test error).\n",
    "- fitting only half the model will make the test error estimate dependent on which half of the sample we choose.\n"
   ]
  },
  {
   "cell_type": "markdown",
   "metadata": {},
   "source": [
    "###### ii)The k-fold cross validation vs LOOCV:\n",
    "Advantages of LOOCV: \n",
    "- Uses almost all of the points of the data set so it has far less bias. \n",
    "\n",
    "Disadvantages of LOOCV: \n",
    "- Due to the bias-variance trade off as the bias is small then this method has more variance than k-fold cross validation since we are averaging the outputs of n fitted models trained on an almost identical set of observations, these outputs are highly correlated, and the mean of highly correlated quantities has higher variance than less correlated ones\n"
   ]
  },
  {
   "cell_type": "markdown",
   "metadata": {},
   "source": [
    "### Question4:"
   ]
  },
  {
   "cell_type": "markdown",
   "metadata": {},
   "source": [
    "We may use the bootstrap method.In this case, rather than obtaining new independant data sets from the population and fitting our model on those data sets, we instead obtain repeated random samples from the original data set.\n",
    "In this case, we perform sampling with replacement and then find the corresponding estimates and the standard deviation of those estimates and we could have the distribution of the estimates and other measurments(mean,confidence interval,....etc)."
   ]
  },
  {
   "cell_type": "markdown",
   "metadata": {},
   "source": [
    "### Question5:"
   ]
  },
  {
   "cell_type": "code",
   "execution_count": 122,
   "metadata": {},
   "outputs": [],
   "source": [
    "import numpy as np\n",
    "import pandas as pd\n",
    "from sklearn.linear_model import LogisticRegression\n",
    "import matplotlib.pyplot as plt\n",
    "import seaborn as sns\n",
    "from sklearn.metrics import confusion_matrix, ConfusionMatrixDisplay\n",
    "from sklearn.model_selection import train_test_split\n",
    "%matplotlib inline"
   ]
  },
  {
   "cell_type": "code",
   "execution_count": 123,
   "metadata": {},
   "outputs": [
    {
     "data": {
      "text/html": [
       "<div>\n",
       "<style scoped>\n",
       "    .dataframe tbody tr th:only-of-type {\n",
       "        vertical-align: middle;\n",
       "    }\n",
       "\n",
       "    .dataframe tbody tr th {\n",
       "        vertical-align: top;\n",
       "    }\n",
       "\n",
       "    .dataframe thead th {\n",
       "        text-align: right;\n",
       "    }\n",
       "</style>\n",
       "<table border=\"1\" class=\"dataframe\">\n",
       "  <thead>\n",
       "    <tr style=\"text-align: right;\">\n",
       "      <th></th>\n",
       "      <th>default</th>\n",
       "      <th>student</th>\n",
       "      <th>balance</th>\n",
       "      <th>income</th>\n",
       "    </tr>\n",
       "  </thead>\n",
       "  <tbody>\n",
       "    <tr>\n",
       "      <th>0</th>\n",
       "      <td>No</td>\n",
       "      <td>No</td>\n",
       "      <td>729.526495</td>\n",
       "      <td>44361.625074</td>\n",
       "    </tr>\n",
       "    <tr>\n",
       "      <th>1</th>\n",
       "      <td>No</td>\n",
       "      <td>Yes</td>\n",
       "      <td>817.180407</td>\n",
       "      <td>12106.134700</td>\n",
       "    </tr>\n",
       "    <tr>\n",
       "      <th>2</th>\n",
       "      <td>No</td>\n",
       "      <td>No</td>\n",
       "      <td>1073.549164</td>\n",
       "      <td>31767.138947</td>\n",
       "    </tr>\n",
       "    <tr>\n",
       "      <th>3</th>\n",
       "      <td>No</td>\n",
       "      <td>No</td>\n",
       "      <td>529.250605</td>\n",
       "      <td>35704.493935</td>\n",
       "    </tr>\n",
       "    <tr>\n",
       "      <th>4</th>\n",
       "      <td>No</td>\n",
       "      <td>No</td>\n",
       "      <td>785.655883</td>\n",
       "      <td>38463.495879</td>\n",
       "    </tr>\n",
       "  </tbody>\n",
       "</table>\n",
       "</div>"
      ],
      "text/plain": [
       "  default student      balance        income\n",
       "0      No      No   729.526495  44361.625074\n",
       "1      No     Yes   817.180407  12106.134700\n",
       "2      No      No  1073.549164  31767.138947\n",
       "3      No      No   529.250605  35704.493935\n",
       "4      No      No   785.655883  38463.495879"
      ]
     },
     "execution_count": 123,
     "metadata": {},
     "output_type": "execute_result"
    }
   ],
   "source": [
    "default_df=pd.read_csv('./csv/Default.csv')\n",
    "default_df.head()"
   ]
  },
  {
   "cell_type": "code",
   "execution_count": 124,
   "metadata": {},
   "outputs": [],
   "source": [
    "default_df['default_yes']=default_df['default'].apply(lambda x:1 if x=='Yes' else 0)#mapping defaults values\n",
    "default_df['student_yes']=default_df['student'].apply(lambda x:1 if x=='Yes' else 0)#mapping student variable"
   ]
  },
  {
   "cell_type": "code",
   "execution_count": 125,
   "metadata": {},
   "outputs": [],
   "source": [
    "X=default_df[['balance','income']]\n",
    "Y=default_df['default_yes']\n"
   ]
  },
  {
   "cell_type": "code",
   "execution_count": 126,
   "metadata": {},
   "outputs": [],
   "source": [
    "#a)\n",
    "model_1 = LogisticRegression(random_state=0, tol=1e-6).fit(X, Y)"
   ]
  },
  {
   "cell_type": "code",
   "execution_count": 127,
   "metadata": {},
   "outputs": [
    {
     "data": {
      "text/plain": [
       "array([-11.54047811])"
      ]
     },
     "execution_count": 127,
     "metadata": {},
     "output_type": "execute_result"
    }
   ],
   "source": [
    "model_1.intercept_"
   ]
  },
  {
   "cell_type": "code",
   "execution_count": 128,
   "metadata": {},
   "outputs": [
    {
     "data": {
      "text/plain": [
       "array([[5.64710797e-03, 2.08091984e-05]])"
      ]
     },
     "execution_count": 128,
     "metadata": {},
     "output_type": "execute_result"
    }
   ],
   "source": [
    "model_1.coef_"
   ]
  },
  {
   "cell_type": "code",
   "execution_count": 129,
   "metadata": {},
   "outputs": [],
   "source": [
    "#b)i) ii) iii)\n",
    "X_train, X_test, y_train, y_test = train_test_split(X, Y, test_size=0.5)\n",
    "model_2= LogisticRegression(random_state=0, tol=1e-6).fit(X_train,y_train)\n",
    "predictions=model_2.predict(X_test)"
   ]
  },
  {
   "cell_type": "code",
   "execution_count": 130,
   "metadata": {},
   "outputs": [
    {
     "name": "stdout",
     "output_type": "stream",
     "text": [
      "2.759999999999996\n"
     ]
    }
   ],
   "source": [
    "validation_error=(1-((y_test==predictions).mean()))*100\n",
    "print(validation_error)"
   ]
  },
  {
   "cell_type": "markdown",
   "metadata": {},
   "source": [
    "So our general test error is 2.76%."
   ]
  },
  {
   "cell_type": "code",
   "execution_count": 131,
   "metadata": {},
   "outputs": [],
   "source": [
    "#C)\n",
    "\n",
    "def c_function(features,output):\n",
    "    #print(features)\n",
    "    #print(output)\n",
    "    X_train, X_test, y_train, y_test = train_test_split(features, output, test_size=0.5)\n",
    "    model= LogisticRegression(random_state=0, tol=1e-6).fit(X_train,y_train)\n",
    "    predictions=model.predict(X_test)\n",
    "    conf_mat = confusion_matrix(y_test, predictions)\n",
    "    disp = ConfusionMatrixDisplay(confusion_matrix=conf_mat,display_labels=['No','Yes'])\n",
    "    disp.plot(values_format=\"2g\");\n",
    "    validation_error=(1-((y_test==predictions).mean()))*100\n",
    "    return validation_error"
   ]
  },
  {
   "cell_type": "code",
   "execution_count": 132,
   "metadata": {},
   "outputs": [
    {
     "data": {
      "image/png": "[encoded data removed]",
      "text/plain": [
       "<Figure size 432x288 with 2 Axes>"
      ]
     },
     "metadata": {
      "needs_background": "light"
     },
     "output_type": "display_data"
    },
    {
     "data": {
      "image/png": "[encoded data removed]",
      "text/plain": [
       "<Figure size 432x288 with 2 Axes>"
      ]
     },
     "metadata": {
      "needs_background": "light"
     },
     "output_type": "display_data"
    },
    {
     "data": {
      "image/png": "[encoded data removed]",
      "text/plain": [
       "<Figure size 432x288 with 2 Axes>"
      ]
     },
     "metadata": {
      "needs_background": "light"
     },
     "output_type": "display_data"
    }
   ],
   "source": [
    "test_estimated_errors=[]\n",
    "for i in range(3):\n",
    "    #print(i)\n",
    "    test_estimated_errors.append(c_function(X,Y))"
   ]
  },
  {
   "cell_type": "code",
   "execution_count": 133,
   "metadata": {},
   "outputs": [
    {
     "data": {
      "text/plain": [
       "[3.2399999999999984, 3.1000000000000028, 3.280000000000005]"
      ]
     },
     "execution_count": 133,
     "metadata": {},
     "output_type": "execute_result"
    }
   ],
   "source": [
    "test_estimated_errors"
   ]
  },
  {
   "cell_type": "markdown",
   "metadata": {},
   "source": [
    "We see that the validation estimate of the test error rate can be variable, depending on which observations are included in the training set and which observations are included in the validation set."
   ]
  },
  {
   "cell_type": "code",
   "execution_count": 134,
   "metadata": {},
   "outputs": [
    {
     "data": {
      "image/png": "[encoded data removed]",
      "text/plain": [
       "<Figure size 432x288 with 2 Axes>"
      ]
     },
     "metadata": {
      "needs_background": "light"
     },
     "output_type": "display_data"
    }
   ],
   "source": [
    "#D)\n",
    "X_D=default_df[['balance','income','student_yes']]\n",
    "Y_D=default_df['default_yes']\n",
    "validation_error=c_function(X_D,Y_D)"
   ]
  },
  {
   "cell_type": "code",
   "execution_count": 135,
   "metadata": {},
   "outputs": [
    {
     "data": {
      "text/plain": [
       "3.500000000000003"
      ]
     },
     "execution_count": 135,
     "metadata": {},
     "output_type": "execute_result"
    }
   ],
   "source": [
    "validation_error"
   ]
  },
  {
   "cell_type": "markdown",
   "metadata": {},
   "source": [
    "We see that adding the dummy variable student doesn't actually lead to a reduction in the test error rate"
   ]
  },
  {
   "cell_type": "markdown",
   "metadata": {},
   "source": [
    "### Question 6:"
   ]
  },
  {
   "cell_type": "code",
   "execution_count": 136,
   "metadata": {},
   "outputs": [],
   "source": [
    "import numpy as np\n",
    "import pandas as pd\n",
    "import statsmodels.api as sm\n",
    "import statsmodels.formula.api as smf # we use here the statsmodels library because it gives us the standard errors for the coefficients directly\n",
    "import matplotlib.pyplot as plt\n",
    "import seaborn as sns\n",
    "from sklearn.metrics import confusion_matrix, ConfusionMatrixDisplay\n",
    "from sklearn.model_selection import train_test_split\n",
    "%matplotlib inline"
   ]
  },
  {
   "cell_type": "code",
   "execution_count": 137,
   "metadata": {},
   "outputs": [
    {
     "name": "stdout",
     "output_type": "stream",
     "text": [
      "                 Generalized Linear Model Regression Results                  \n",
      "==============================================================================\n",
      "Dep. Variable:            default_yes   No. Observations:                10000\n",
      "Model:                            GLM   Df Residuals:                     9997\n",
      "Model Family:                Binomial   Df Model:                            2\n",
      "Link Function:                  logit   Scale:                          1.0000\n",
      "Method:                          IRLS   Log-Likelihood:                -789.48\n",
      "Date:                Wed, 07 Jul 2021   Deviance:                       1579.0\n",
      "Time:                        07:47:38   Pearson chi2:                 6.95e+03\n",
      "No. Iterations:                     9                                         \n",
      "Covariance Type:            nonrobust                                         \n",
      "==============================================================================\n",
      "                 coef    std err          z      P>|z|      [0.025      0.975]\n",
      "------------------------------------------------------------------------------\n",
      "Intercept    -11.5405      0.435    -26.544      0.000     -12.393     -10.688\n",
      "balance        0.0056      0.000     24.835      0.000       0.005       0.006\n",
      "income      2.081e-05   4.99e-06      4.174      0.000     1.1e-05    3.06e-05\n",
      "==============================================================================\n"
     ]
    },
    {
     "data": {
      "text/html": [
       "<div>\n",
       "<style scoped>\n",
       "    .dataframe tbody tr th:only-of-type {\n",
       "        vertical-align: middle;\n",
       "    }\n",
       "\n",
       "    .dataframe tbody tr th {\n",
       "        vertical-align: top;\n",
       "    }\n",
       "\n",
       "    .dataframe thead th {\n",
       "        text-align: right;\n",
       "    }\n",
       "</style>\n",
       "<table border=\"1\" class=\"dataframe\">\n",
       "  <thead>\n",
       "    <tr style=\"text-align: right;\">\n",
       "      <th></th>\n",
       "      <th>coef_sm</th>\n",
       "      <th>std_sm</th>\n",
       "    </tr>\n",
       "  </thead>\n",
       "  <tbody>\n",
       "    <tr>\n",
       "      <th>0</th>\n",
       "      <td>-11.540468</td>\n",
       "      <td>0.434772</td>\n",
       "    </tr>\n",
       "    <tr>\n",
       "      <th>1</th>\n",
       "      <td>0.005647</td>\n",
       "      <td>0.000227</td>\n",
       "    </tr>\n",
       "    <tr>\n",
       "      <th>2</th>\n",
       "      <td>0.000021</td>\n",
       "      <td>0.000005</td>\n",
       "    </tr>\n",
       "  </tbody>\n",
       "</table>\n",
       "</div>"
      ],
      "text/plain": [
       "     coef_sm    std_sm\n",
       "0 -11.540468  0.434772\n",
       "1   0.005647  0.000227\n",
       "2   0.000021  0.000005"
      ]
     },
     "metadata": {},
     "output_type": "display_data"
    }
   ],
   "source": [
    "\n",
    "formula = 'default_yes ~ balance+income'\n",
    "log_reg = smf.glm(formula = formula, data=default_df, family=sm.families.Binomial()).fit()\n",
    "print(log_reg.summary())\n",
    "statsmodels_est = pd.DataFrame({'coef_sm': log_reg.params, 'std_sm': log_reg.bse})\n",
    "statsmodels_est.reset_index(drop=True,inplace=True)\n",
    "display(statsmodels_est)"
   ]
  },
  {
   "cell_type": "code",
   "execution_count": 138,
   "metadata": {},
   "outputs": [],
   "source": [
    "#B)\n",
    "def boot_fn(data,index):\n",
    "    response   = 'default_yes'\n",
    "    predictors = ['balance', 'income']\n",
    "    \n",
    "    X = sm.add_constant(np.array(default_df[predictors].loc[index]));\n",
    "    y = np.array(default_df[response].loc[index]) \n",
    "\n",
    "    log_reg = sm.Logit(y, X).fit(disp=False);  \n",
    "    return log_reg.params;"
   ]
  },
  {
   "cell_type": "code",
   "execution_count": 139,
   "metadata": {},
   "outputs": [
    {
     "data": {
      "text/html": [
       "<div>\n",
       "<style scoped>\n",
       "    .dataframe tbody tr th:only-of-type {\n",
       "        vertical-align: middle;\n",
       "    }\n",
       "\n",
       "    .dataframe tbody tr th {\n",
       "        vertical-align: top;\n",
       "    }\n",
       "\n",
       "    .dataframe thead th {\n",
       "        text-align: right;\n",
       "    }\n",
       "</style>\n",
       "<table border=\"1\" class=\"dataframe\">\n",
       "  <thead>\n",
       "    <tr style=\"text-align: right;\">\n",
       "      <th></th>\n",
       "      <th>coef_boot</th>\n",
       "      <th>std_boot</th>\n",
       "    </tr>\n",
       "  </thead>\n",
       "  <tbody>\n",
       "    <tr>\n",
       "      <th>0</th>\n",
       "      <td>-11.567333</td>\n",
       "      <td>0.430063</td>\n",
       "    </tr>\n",
       "    <tr>\n",
       "      <th>1</th>\n",
       "      <td>0.005662</td>\n",
       "      <td>0.000227</td>\n",
       "    </tr>\n",
       "    <tr>\n",
       "      <th>2</th>\n",
       "      <td>0.000021</td>\n",
       "      <td>0.000005</td>\n",
       "    </tr>\n",
       "  </tbody>\n",
       "</table>\n",
       "</div>"
      ],
      "text/plain": [
       "   coef_boot  std_boot\n",
       "0 -11.567333  0.430063\n",
       "1   0.005662  0.000227\n",
       "2   0.000021  0.000005"
      ]
     },
     "metadata": {},
     "output_type": "display_data"
    }
   ],
   "source": [
    "def samples_idx(n):\n",
    "    # return the index of bootstrap sample with size n and replacement\n",
    "     return np.random.randint(low=0, high=n, size=n)\n",
    "\n",
    "def boot(fn,data,samples):\n",
    "    results = []\n",
    "    for s in range(samples):\n",
    "        Z = fn(data, samples_idx(data.shape[0]))\n",
    "        results += [Z]\n",
    "    return np.array(results)\n",
    "def standard_deviation(X):\n",
    "    X_mean = np.mean(X, axis=0)\n",
    "    std = np.sqrt((np.sum(np.square(X - X_mean), axis=0)) / (len(X)))\n",
    "    return std\n",
    "\n",
    "B = 5000\n",
    "coef_preds    = boot(boot_fn, default_df, samples=B)\n",
    "coef_pred     = np.mean(coef_preds, axis=0)\n",
    "standard_errs = standard_deviation(coef_preds)\n",
    "\n",
    "bootstrap_est = pd.DataFrame({'coef_boot': coef_pred, 'std_boot': standard_errs})\n",
    "display(bootstrap_est)"
   ]
  },
  {
   "cell_type": "code",
   "execution_count": 140,
   "metadata": {},
   "outputs": [
    {
     "data": {
      "text/html": [
       "<div>\n",
       "<style scoped>\n",
       "    .dataframe tbody tr th:only-of-type {\n",
       "        vertical-align: middle;\n",
       "    }\n",
       "\n",
       "    .dataframe tbody tr th {\n",
       "        vertical-align: top;\n",
       "    }\n",
       "\n",
       "    .dataframe thead th {\n",
       "        text-align: right;\n",
       "    }\n",
       "</style>\n",
       "<table border=\"1\" class=\"dataframe\">\n",
       "  <thead>\n",
       "    <tr style=\"text-align: right;\">\n",
       "      <th></th>\n",
       "      <th>coef_sm</th>\n",
       "      <th>std_sm</th>\n",
       "      <th>coef_boot</th>\n",
       "      <th>std_boot</th>\n",
       "    </tr>\n",
       "  </thead>\n",
       "  <tbody>\n",
       "    <tr>\n",
       "      <th>0</th>\n",
       "      <td>-11.540468</td>\n",
       "      <td>0.434772</td>\n",
       "      <td>-11.567333</td>\n",
       "      <td>0.430063</td>\n",
       "    </tr>\n",
       "    <tr>\n",
       "      <th>1</th>\n",
       "      <td>0.005647</td>\n",
       "      <td>0.000227</td>\n",
       "      <td>0.005662</td>\n",
       "      <td>0.000227</td>\n",
       "    </tr>\n",
       "    <tr>\n",
       "      <th>2</th>\n",
       "      <td>0.000021</td>\n",
       "      <td>0.000005</td>\n",
       "      <td>0.000021</td>\n",
       "      <td>0.000005</td>\n",
       "    </tr>\n",
       "  </tbody>\n",
       "</table>\n",
       "</div>"
      ],
      "text/plain": [
       "     coef_sm    std_sm  coef_boot  std_boot\n",
       "0 -11.540468  0.434772 -11.567333  0.430063\n",
       "1   0.005647  0.000227   0.005662  0.000227\n",
       "2   0.000021  0.000005   0.000021  0.000005"
      ]
     },
     "execution_count": 140,
     "metadata": {},
     "output_type": "execute_result"
    }
   ],
   "source": [
    "pd.concat([statsmodels_est, bootstrap_est], axis=1)"
   ]
  },
  {
   "cell_type": "markdown",
   "metadata": {},
   "source": [
    "The estimated standard errors obtained by the two methods are pretty close."
   ]
  },
  {
   "cell_type": "markdown",
   "metadata": {},
   "source": [
    "### Question7:"
   ]
  },
  {
   "cell_type": "code",
   "execution_count": 141,
   "metadata": {},
   "outputs": [
    {
     "data": {
      "text/html": [
       "<div>\n",
       "<style scoped>\n",
       "    .dataframe tbody tr th:only-of-type {\n",
       "        vertical-align: middle;\n",
       "    }\n",
       "\n",
       "    .dataframe tbody tr th {\n",
       "        vertical-align: top;\n",
       "    }\n",
       "\n",
       "    .dataframe thead th {\n",
       "        text-align: right;\n",
       "    }\n",
       "</style>\n",
       "<table border=\"1\" class=\"dataframe\">\n",
       "  <thead>\n",
       "    <tr style=\"text-align: right;\">\n",
       "      <th></th>\n",
       "      <th>Year</th>\n",
       "      <th>Lag1</th>\n",
       "      <th>Lag2</th>\n",
       "      <th>Lag3</th>\n",
       "      <th>Lag4</th>\n",
       "      <th>Lag5</th>\n",
       "      <th>Volume</th>\n",
       "      <th>Today</th>\n",
       "      <th>Direction</th>\n",
       "    </tr>\n",
       "  </thead>\n",
       "  <tbody>\n",
       "    <tr>\n",
       "      <th>0</th>\n",
       "      <td>1990</td>\n",
       "      <td>0.816</td>\n",
       "      <td>1.572</td>\n",
       "      <td>-3.936</td>\n",
       "      <td>-0.229</td>\n",
       "      <td>-3.484</td>\n",
       "      <td>0.154976</td>\n",
       "      <td>-0.270</td>\n",
       "      <td>Down</td>\n",
       "    </tr>\n",
       "    <tr>\n",
       "      <th>1</th>\n",
       "      <td>1990</td>\n",
       "      <td>-0.270</td>\n",
       "      <td>0.816</td>\n",
       "      <td>1.572</td>\n",
       "      <td>-3.936</td>\n",
       "      <td>-0.229</td>\n",
       "      <td>0.148574</td>\n",
       "      <td>-2.576</td>\n",
       "      <td>Down</td>\n",
       "    </tr>\n",
       "    <tr>\n",
       "      <th>2</th>\n",
       "      <td>1990</td>\n",
       "      <td>-2.576</td>\n",
       "      <td>-0.270</td>\n",
       "      <td>0.816</td>\n",
       "      <td>1.572</td>\n",
       "      <td>-3.936</td>\n",
       "      <td>0.159837</td>\n",
       "      <td>3.514</td>\n",
       "      <td>Up</td>\n",
       "    </tr>\n",
       "    <tr>\n",
       "      <th>3</th>\n",
       "      <td>1990</td>\n",
       "      <td>3.514</td>\n",
       "      <td>-2.576</td>\n",
       "      <td>-0.270</td>\n",
       "      <td>0.816</td>\n",
       "      <td>1.572</td>\n",
       "      <td>0.161630</td>\n",
       "      <td>0.712</td>\n",
       "      <td>Up</td>\n",
       "    </tr>\n",
       "    <tr>\n",
       "      <th>4</th>\n",
       "      <td>1990</td>\n",
       "      <td>0.712</td>\n",
       "      <td>3.514</td>\n",
       "      <td>-2.576</td>\n",
       "      <td>-0.270</td>\n",
       "      <td>0.816</td>\n",
       "      <td>0.153728</td>\n",
       "      <td>1.178</td>\n",
       "      <td>Up</td>\n",
       "    </tr>\n",
       "  </tbody>\n",
       "</table>\n",
       "</div>"
      ],
      "text/plain": [
       "   Year   Lag1   Lag2   Lag3   Lag4   Lag5    Volume  Today Direction\n",
       "0  1990  0.816  1.572 -3.936 -0.229 -3.484  0.154976 -0.270      Down\n",
       "1  1990 -0.270  0.816  1.572 -3.936 -0.229  0.148574 -2.576      Down\n",
       "2  1990 -2.576 -0.270  0.816  1.572 -3.936  0.159837  3.514        Up\n",
       "3  1990  3.514 -2.576 -0.270  0.816  1.572  0.161630  0.712        Up\n",
       "4  1990  0.712  3.514 -2.576 -0.270  0.816  0.153728  1.178        Up"
      ]
     },
     "execution_count": 141,
     "metadata": {},
     "output_type": "execute_result"
    }
   ],
   "source": [
    "Weekly_df=pd.read_csv('./csv/Weekly.csv')\n",
    "Weekly_df.head()"
   ]
  },
  {
   "cell_type": "code",
   "execution_count": 142,
   "metadata": {},
   "outputs": [],
   "source": [
    "Weekly_df['Direction_Up']=Weekly_df['Direction'].apply(lambda x:1 if x=='Up' else 0)"
   ]
  },
  {
   "cell_type": "code",
   "execution_count": 143,
   "metadata": {},
   "outputs": [
    {
     "data": {
      "text/html": [
       "<div>\n",
       "<style scoped>\n",
       "    .dataframe tbody tr th:only-of-type {\n",
       "        vertical-align: middle;\n",
       "    }\n",
       "\n",
       "    .dataframe tbody tr th {\n",
       "        vertical-align: top;\n",
       "    }\n",
       "\n",
       "    .dataframe thead th {\n",
       "        text-align: right;\n",
       "    }\n",
       "</style>\n",
       "<table border=\"1\" class=\"dataframe\">\n",
       "  <thead>\n",
       "    <tr style=\"text-align: right;\">\n",
       "      <th></th>\n",
       "      <th>Year</th>\n",
       "      <th>Lag1</th>\n",
       "      <th>Lag2</th>\n",
       "      <th>Lag3</th>\n",
       "      <th>Lag4</th>\n",
       "      <th>Lag5</th>\n",
       "      <th>Volume</th>\n",
       "      <th>Today</th>\n",
       "      <th>Direction</th>\n",
       "      <th>Direction_Up</th>\n",
       "    </tr>\n",
       "  </thead>\n",
       "  <tbody>\n",
       "    <tr>\n",
       "      <th>0</th>\n",
       "      <td>1990</td>\n",
       "      <td>0.816</td>\n",
       "      <td>1.572</td>\n",
       "      <td>-3.936</td>\n",
       "      <td>-0.229</td>\n",
       "      <td>-3.484</td>\n",
       "      <td>0.154976</td>\n",
       "      <td>-0.270</td>\n",
       "      <td>Down</td>\n",
       "      <td>0</td>\n",
       "    </tr>\n",
       "    <tr>\n",
       "      <th>1</th>\n",
       "      <td>1990</td>\n",
       "      <td>-0.270</td>\n",
       "      <td>0.816</td>\n",
       "      <td>1.572</td>\n",
       "      <td>-3.936</td>\n",
       "      <td>-0.229</td>\n",
       "      <td>0.148574</td>\n",
       "      <td>-2.576</td>\n",
       "      <td>Down</td>\n",
       "      <td>0</td>\n",
       "    </tr>\n",
       "    <tr>\n",
       "      <th>2</th>\n",
       "      <td>1990</td>\n",
       "      <td>-2.576</td>\n",
       "      <td>-0.270</td>\n",
       "      <td>0.816</td>\n",
       "      <td>1.572</td>\n",
       "      <td>-3.936</td>\n",
       "      <td>0.159837</td>\n",
       "      <td>3.514</td>\n",
       "      <td>Up</td>\n",
       "      <td>1</td>\n",
       "    </tr>\n",
       "    <tr>\n",
       "      <th>3</th>\n",
       "      <td>1990</td>\n",
       "      <td>3.514</td>\n",
       "      <td>-2.576</td>\n",
       "      <td>-0.270</td>\n",
       "      <td>0.816</td>\n",
       "      <td>1.572</td>\n",
       "      <td>0.161630</td>\n",
       "      <td>0.712</td>\n",
       "      <td>Up</td>\n",
       "      <td>1</td>\n",
       "    </tr>\n",
       "    <tr>\n",
       "      <th>4</th>\n",
       "      <td>1990</td>\n",
       "      <td>0.712</td>\n",
       "      <td>3.514</td>\n",
       "      <td>-2.576</td>\n",
       "      <td>-0.270</td>\n",
       "      <td>0.816</td>\n",
       "      <td>0.153728</td>\n",
       "      <td>1.178</td>\n",
       "      <td>Up</td>\n",
       "      <td>1</td>\n",
       "    </tr>\n",
       "  </tbody>\n",
       "</table>\n",
       "</div>"
      ],
      "text/plain": [
       "   Year   Lag1   Lag2   Lag3   Lag4   Lag5    Volume  Today Direction  \\\n",
       "0  1990  0.816  1.572 -3.936 -0.229 -3.484  0.154976 -0.270      Down   \n",
       "1  1990 -0.270  0.816  1.572 -3.936 -0.229  0.148574 -2.576      Down   \n",
       "2  1990 -2.576 -0.270  0.816  1.572 -3.936  0.159837  3.514        Up   \n",
       "3  1990  3.514 -2.576 -0.270  0.816  1.572  0.161630  0.712        Up   \n",
       "4  1990  0.712  3.514 -2.576 -0.270  0.816  0.153728  1.178        Up   \n",
       "\n",
       "   Direction_Up  \n",
       "0             0  \n",
       "1             0  \n",
       "2             1  \n",
       "3             1  \n",
       "4             1  "
      ]
     },
     "execution_count": 143,
     "metadata": {},
     "output_type": "execute_result"
    }
   ],
   "source": [
    "Weekly_df.head()"
   ]
  },
  {
   "cell_type": "code",
   "execution_count": 144,
   "metadata": {},
   "outputs": [
    {
     "name": "stdout",
     "output_type": "stream",
     "text": [
      "                 Generalized Linear Model Regression Results                  \n",
      "==============================================================================\n",
      "Dep. Variable:           Direction_Up   No. Observations:                 1089\n",
      "Model:                            GLM   Df Residuals:                     1086\n",
      "Model Family:                Binomial   Df Model:                            2\n",
      "Link Function:                  logit   Scale:                          1.0000\n",
      "Method:                          IRLS   Log-Likelihood:                -744.11\n",
      "Date:                Wed, 07 Jul 2021   Deviance:                       1488.2\n",
      "Time:                        07:50:06   Pearson chi2:                 1.09e+03\n",
      "No. Iterations:                     4                                         \n",
      "Covariance Type:            nonrobust                                         \n",
      "==============================================================================\n",
      "                 coef    std err          z      P>|z|      [0.025      0.975]\n",
      "------------------------------------------------------------------------------\n",
      "Intercept      0.2212      0.061      3.599      0.000       0.101       0.342\n",
      "Lag1          -0.0387      0.026     -1.477      0.140      -0.090       0.013\n",
      "Lag2           0.0602      0.027      2.270      0.023       0.008       0.112\n",
      "==============================================================================\n"
     ]
    }
   ],
   "source": [
    "#A)Logistic regression model\n",
    "formula = 'Direction_Up ~ Lag1+Lag2'\n",
    "log_reg = smf.glm(formula = formula, data=Weekly_df, family=sm.families.Binomial()).fit()\n",
    "print(log_reg.summary())\n"
   ]
  },
  {
   "cell_type": "code",
   "execution_count": 145,
   "metadata": {},
   "outputs": [],
   "source": [
    "#B) logistic regression of all the inputs except for the first one\n",
    "predictors=['Lag1','Lag2']\n",
    "output='Direction_Up'\n",
    "index=Weekly_df.index!=0\n",
    "\n",
    "X_train=Weekly_df.loc[index,predictors]\n",
    "y_train=Weekly_df.loc[index,output]\n",
    "X_test=Weekly_df.loc[~index,predictors]\n",
    "y_test=Weekly_df.loc[~index,output]\n",
    "log_model= LogisticRegression(fit_intercept=True,random_state=0, tol=1e-6).fit(X_train,y_train)"
   ]
  },
  {
   "cell_type": "code",
   "execution_count": 146,
   "metadata": {},
   "outputs": [],
   "source": [
    "def get_conf(y_test,y_pred,labels_output):\n",
    "    \n",
    "    conf_mat=confusion_matrix(y_test,y_pred)\n",
    "    print(conf_mat)\n",
    "    disp = ConfusionMatrixDisplay(confusion_matrix=conf_mat,display_labels=labels_output)\n",
    "    disp.plot(values_format=\"2g\",cmap='viridis')\n",
    "    validation_error=(y_test!=y_pred).mean()*100\n",
    "    print(\"The validation error is: \",str(validation_error),\"%\")"
   ]
  },
  {
   "cell_type": "code",
   "execution_count": 147,
   "metadata": {},
   "outputs": [
    {
     "name": "stdout",
     "output_type": "stream",
     "text": [
      "[[0 1]\n",
      " [0 0]]\n",
      "The validation error is:  100.0 %\n"
     ]
    },
    {
     "data": {
      "image/png": "[encoded data removed]",
      "text/plain": [
       "<Figure size 432x288 with 2 Axes>"
      ]
     },
     "metadata": {
      "needs_background": "light"
     },
     "output_type": "display_data"
    }
   ],
   "source": [
    "# Predict\n",
    "y_pred = log_model.predict(X_test)\n",
    "\n",
    "\n",
    "get_conf(y_test,y_pred,['Down','Up'])"
   ]
  },
  {
   "cell_type": "code",
   "execution_count": 148,
   "metadata": {},
   "outputs": [],
   "source": [
    "pred=[]\n",
    "for i in range(Weekly_df.shape[0]):\n",
    "    index=Weekly_df.index!=i\n",
    "\n",
    "    X_train=Weekly_df.loc[index,predictors]\n",
    "    y_train=Weekly_df.loc[index,output]\n",
    "    X_test=Weekly_df.loc[~index,predictors]\n",
    "    log_model= LogisticRegression(fit_intercept=True, tol=1e-6).fit(X_train,y_train)\n",
    "    y_pred = log_model.predict(X_test)\n",
    "    \n",
    "    pred.extend(y_pred)\n",
    "\n",
    "    "
   ]
  },
  {
   "cell_type": "code",
   "execution_count": 149,
   "metadata": {},
   "outputs": [
    {
     "name": "stdout",
     "output_type": "stream",
     "text": [
      "[[ 34 450]\n",
      " [ 40 565]]\n",
      "The validation error is:  44.995408631772264 %\n"
     ]
    },
    {
     "data": {
      "image/png": "[encoded data removed]",
      "text/plain": [
       "<Figure size 432x288 with 2 Axes>"
      ]
     },
     "metadata": {
      "needs_background": "light"
     },
     "output_type": "display_data"
    }
   ],
   "source": [
    "\n",
    "y_pred=np.array(pred)\n",
    "\n",
    "y_test = Weekly_df[output]\n",
    "get_conf(y_test,y_pred,['Down','Up'])"
   ]
  },
  {
   "cell_type": "markdown",
   "metadata": {},
   "source": [
    "The LOOCV estimate for the test error rate is approximately 45%.\n",
    "\n",
    "The LOOCV has a high miss rate for the Down label so if the market is going Down the model will predict it wrong as up with approximately 93% which is not a good prediction"
   ]
  },
  {
   "cell_type": "markdown",
   "metadata": {},
   "source": [
    "### Question8:"
   ]
  },
  {
   "cell_type": "code",
   "execution_count": 150,
   "metadata": {},
   "outputs": [],
   "source": [
    "np.random.seed(1)\n",
    "mu, sigma = 0, 1 # mean and standard deviation\n",
    "X = np.random.normal(mu, sigma, 100)\n",
    "y = X- (2 * (X**2)) + np.random.normal(mu, sigma, 100)"
   ]
  },
  {
   "cell_type": "markdown",
   "metadata": {},
   "source": [
    "n=100\n",
    "\n",
    "p=2"
   ]
  },
  {
   "cell_type": "code",
   "execution_count": 151,
   "metadata": {},
   "outputs": [
    {
     "data": {
      "image/png": "[encoded data removed]",
      "text/plain": [
       "<Figure size 432x288 with 1 Axes>"
      ]
     },
     "metadata": {
      "needs_background": "light"
     },
     "output_type": "display_data"
    }
   ],
   "source": [
    "plt.scatter(X, y, marker = '.')\n",
    "plt.show()"
   ]
  },
  {
   "cell_type": "code",
   "execution_count": 152,
   "metadata": {},
   "outputs": [],
   "source": [
    "data_df=pd.DataFrame({'X': X, 'y': y})"
   ]
  },
  {
   "cell_type": "code",
   "execution_count": 153,
   "metadata": {},
   "outputs": [],
   "source": [
    "def sim_8(seed):\n",
    "    np.random.seed(seed)\n",
    "    mu, sigma = 0, 1 # mean and standard deviation\n",
    "    X = np.random.normal(mu, sigma, 100)\n",
    "    y = X- (2 * (X**2)) + np.random.normal(mu, sigma, 100)\n",
    "    data_df=pd.DataFrame({'X': X, 'y': y})\n",
    "    formulas = {'X'  : 'y ~ X', \n",
    "                'X^2' : 'y ~ X + np.power(X, 2)',\n",
    "                'X^3': 'y ~ X + np.power(X, 2) + np.power(X, 3)',\n",
    "                'X^4' : 'y ~ X + np.power(X, 2) + np.power(X, 3) + np.power(X, 4)'}\n",
    "    errors = {}\n",
    "    for f in formulas:\n",
    "        # predictions \n",
    "        y_pred = pd.Series({})\n",
    "        for i in range(data_df.shape[0]):\n",
    "            \n",
    "            train = data_df.index != i\n",
    "\n",
    "            # Linear regression\n",
    "            model_ols = smf.ols(formula=formulas[f], data=data_df[train]).fit()\n",
    "\n",
    "            ## Predict\n",
    "            y_hat   = model_ols.predict(exog=data_df[~train])\n",
    "            y_pred  = pd.concat([y_pred, y_hat])\n",
    "        errors[f] = np.sum(np.square(np.array(y_pred)- y)) / y.size\n",
    "\n",
    "    display(errors)"
   ]
  },
  {
   "cell_type": "code",
   "execution_count": 154,
   "metadata": {},
   "outputs": [
    {
     "name": "stderr",
     "output_type": "stream",
     "text": [
      "/anaconda3/envs/tf/lib/python3.7/site-packages/ipykernel_launcher.py:14: DeprecationWarning: The default dtype for empty Series will be 'object' instead of 'float64' in a future version. Specify a dtype explicitly to silence this warning.\n",
      "  \n"
     ]
    },
    {
     "data": {
      "text/plain": [
       "{'X': 6.260764331604616,\n",
       " 'X^2': 0.9142897072803661,\n",
       " 'X^3': 0.926876878164881,\n",
       " 'X^4': 0.8669116865881077}"
      ]
     },
     "metadata": {},
     "output_type": "display_data"
    }
   ],
   "source": [
    "sim_8(1)"
   ]
  },
  {
   "cell_type": "code",
   "execution_count": 155,
   "metadata": {},
   "outputs": [
    {
     "name": "stderr",
     "output_type": "stream",
     "text": [
      "/anaconda3/envs/tf/lib/python3.7/site-packages/ipykernel_launcher.py:14: DeprecationWarning: The default dtype for empty Series will be 'object' instead of 'float64' in a future version. Specify a dtype explicitly to silence this warning.\n",
      "  \n"
     ]
    },
    {
     "data": {
      "text/plain": [
       "{'X': 9.429508728455424,\n",
       " 'X^2': 1.0376998969927407,\n",
       " 'X^3': 1.071066460073387,\n",
       " 'X^4': 1.0925510799150582}"
      ]
     },
     "metadata": {},
     "output_type": "display_data"
    }
   ],
   "source": [
    "sim_8(10)"
   ]
  },
  {
   "cell_type": "markdown",
   "metadata": {},
   "source": [
    "Changing the random seed we have changed the sample of observations taken from the datset, so this change in error is due to variance in our sample. In this case the sample size in is small n=100, and so we might expect quite hi high variance between succesive samples. This would lead to variability between the mse errors observed for different samples of X, Y."
   ]
  },
  {
   "cell_type": "markdown",
   "metadata": {},
   "source": [
    "#### E) As expected the X^2 has the smallest LOOCV error because the real model is a 2nd order polynomial even for the first model where seed=1 the dramatic decrease in the MSE  when we use X^2 is followed by a slight increase when the cubic term is added to the model and then a slightly decrease when we add the X^4 term due to increase in flexibility."
   ]
  },
  {
   "cell_type": "code",
   "execution_count": 156,
   "metadata": {},
   "outputs": [
    {
     "data": {
      "text/html": [
       "<table class=\"simpletable\">\n",
       "<caption>OLS Regression Results</caption>\n",
       "<tr>\n",
       "  <th>Dep. Variable:</th>            <td>y</td>        <th>  R-squared:         </th> <td>   0.090</td>\n",
       "</tr>\n",
       "<tr>\n",
       "  <th>Model:</th>                   <td>OLS</td>       <th>  Adj. R-squared:    </th> <td>   0.081</td>\n",
       "</tr>\n",
       "<tr>\n",
       "  <th>Method:</th>             <td>Least Squares</td>  <th>  F-statistic:       </th> <td>   9.590</td>\n",
       "</tr>\n",
       "<tr>\n",
       "  <th>Date:</th>             <td>Wed, 07 Jul 2021</td> <th>  Prob (F-statistic):</th>  <td>0.00256</td>\n",
       "</tr>\n",
       "<tr>\n",
       "  <th>Time:</th>                 <td>07:50:57</td>     <th>  Log-Likelihood:    </th> <td> -226.85</td>\n",
       "</tr>\n",
       "<tr>\n",
       "  <th>No. Observations:</th>      <td>    99</td>      <th>  AIC:               </th> <td>   457.7</td>\n",
       "</tr>\n",
       "<tr>\n",
       "  <th>Df Residuals:</th>          <td>    97</td>      <th>  BIC:               </th> <td>   462.9</td>\n",
       "</tr>\n",
       "<tr>\n",
       "  <th>Df Model:</th>              <td>     1</td>      <th>                     </th>     <td> </td>   \n",
       "</tr>\n",
       "<tr>\n",
       "  <th>Covariance Type:</th>      <td>nonrobust</td>    <th>                     </th>     <td> </td>   \n",
       "</tr>\n",
       "</table>\n",
       "<table class=\"simpletable\">\n",
       "<tr>\n",
       "      <td></td>         <th>coef</th>     <th>std err</th>      <th>t</th>      <th>P>|t|</th>  <th>[0.025</th>    <th>0.975]</th>  \n",
       "</tr>\n",
       "<tr>\n",
       "  <th>Intercept</th> <td>   -1.4284</td> <td>    0.243</td> <td>   -5.868</td> <td> 0.000</td> <td>   -1.911</td> <td>   -0.945</td>\n",
       "</tr>\n",
       "<tr>\n",
       "  <th>X</th>         <td>    0.8480</td> <td>    0.274</td> <td>    3.097</td> <td> 0.003</td> <td>    0.305</td> <td>    1.391</td>\n",
       "</tr>\n",
       "</table>\n",
       "<table class=\"simpletable\">\n",
       "<tr>\n",
       "  <th>Omnibus:</th>       <td>36.786</td> <th>  Durbin-Watson:     </th> <td>   1.670</td>\n",
       "</tr>\n",
       "<tr>\n",
       "  <th>Prob(Omnibus):</th> <td> 0.000</td> <th>  Jarque-Bera (JB):  </th> <td>  68.111</td>\n",
       "</tr>\n",
       "<tr>\n",
       "  <th>Skew:</th>          <td>-1.546</td> <th>  Prob(JB):          </th> <td>1.62e-15</td>\n",
       "</tr>\n",
       "<tr>\n",
       "  <th>Kurtosis:</th>      <td> 5.638</td> <th>  Cond. No.          </th> <td>    1.14</td>\n",
       "</tr>\n",
       "</table><br/><br/>Notes:<br/>[1] Standard Errors assume that the covariance matrix of the errors is correctly specified."
      ],
      "text/plain": [
       "<class 'statsmodels.iolib.summary.Summary'>\n",
       "\"\"\"\n",
       "                            OLS Regression Results                            \n",
       "==============================================================================\n",
       "Dep. Variable:                      y   R-squared:                       0.090\n",
       "Model:                            OLS   Adj. R-squared:                  0.081\n",
       "Method:                 Least Squares   F-statistic:                     9.590\n",
       "Date:                Wed, 07 Jul 2021   Prob (F-statistic):            0.00256\n",
       "Time:                        07:50:57   Log-Likelihood:                -226.85\n",
       "No. Observations:                  99   AIC:                             457.7\n",
       "Df Residuals:                      97   BIC:                             462.9\n",
       "Df Model:                           1                                         \n",
       "Covariance Type:            nonrobust                                         \n",
       "==============================================================================\n",
       "                 coef    std err          t      P>|t|      [0.025      0.975]\n",
       "------------------------------------------------------------------------------\n",
       "Intercept     -1.4284      0.243     -5.868      0.000      -1.911      -0.945\n",
       "X              0.8480      0.274      3.097      0.003       0.305       1.391\n",
       "==============================================================================\n",
       "Omnibus:                       36.786   Durbin-Watson:                   1.670\n",
       "Prob(Omnibus):                  0.000   Jarque-Bera (JB):               68.111\n",
       "Skew:                          -1.546   Prob(JB):                     1.62e-15\n",
       "Kurtosis:                       5.638   Cond. No.                         1.14\n",
       "==============================================================================\n",
       "\n",
       "Notes:\n",
       "[1] Standard Errors assume that the covariance matrix of the errors is correctly specified.\n",
       "\"\"\""
      ]
     },
     "metadata": {},
     "output_type": "display_data"
    },
    {
     "data": {
      "text/html": [
       "<table class=\"simpletable\">\n",
       "<caption>OLS Regression Results</caption>\n",
       "<tr>\n",
       "  <th>Dep. Variable:</th>            <td>y</td>        <th>  R-squared:         </th> <td>   0.863</td>\n",
       "</tr>\n",
       "<tr>\n",
       "  <th>Model:</th>                   <td>OLS</td>       <th>  Adj. R-squared:    </th> <td>   0.860</td>\n",
       "</tr>\n",
       "<tr>\n",
       "  <th>Method:</th>             <td>Least Squares</td>  <th>  F-statistic:       </th> <td>   302.1</td>\n",
       "</tr>\n",
       "<tr>\n",
       "  <th>Date:</th>             <td>Wed, 07 Jul 2021</td> <th>  Prob (F-statistic):</th> <td>3.79e-42</td>\n",
       "</tr>\n",
       "<tr>\n",
       "  <th>Time:</th>                 <td>07:50:57</td>     <th>  Log-Likelihood:    </th> <td> -133.16</td>\n",
       "</tr>\n",
       "<tr>\n",
       "  <th>No. Observations:</th>      <td>    99</td>      <th>  AIC:               </th> <td>   272.3</td>\n",
       "</tr>\n",
       "<tr>\n",
       "  <th>Df Residuals:</th>          <td>    96</td>      <th>  BIC:               </th> <td>   280.1</td>\n",
       "</tr>\n",
       "<tr>\n",
       "  <th>Df Model:</th>              <td>     2</td>      <th>                     </th>     <td> </td>   \n",
       "</tr>\n",
       "<tr>\n",
       "  <th>Covariance Type:</th>      <td>nonrobust</td>    <th>                     </th>     <td> </td>   \n",
       "</tr>\n",
       "</table>\n",
       "<table class=\"simpletable\">\n",
       "<tr>\n",
       "         <td></td>           <th>coef</th>     <th>std err</th>      <th>t</th>      <th>P>|t|</th>  <th>[0.025</th>    <th>0.975]</th>  \n",
       "</tr>\n",
       "<tr>\n",
       "  <th>Intercept</th>      <td>    0.1249</td> <td>    0.116</td> <td>    1.076</td> <td> 0.285</td> <td>   -0.106</td> <td>    0.355</td>\n",
       "</tr>\n",
       "<tr>\n",
       "  <th>X</th>              <td>    1.0864</td> <td>    0.107</td> <td>   10.122</td> <td> 0.000</td> <td>    0.873</td> <td>    1.299</td>\n",
       "</tr>\n",
       "<tr>\n",
       "  <th>np.power(X, 2)</th> <td>   -1.9820</td> <td>    0.085</td> <td>  -23.263</td> <td> 0.000</td> <td>   -2.151</td> <td>   -1.813</td>\n",
       "</tr>\n",
       "</table>\n",
       "<table class=\"simpletable\">\n",
       "<tr>\n",
       "  <th>Omnibus:</th>       <td> 0.808</td> <th>  Durbin-Watson:     </th> <td>   2.168</td>\n",
       "</tr>\n",
       "<tr>\n",
       "  <th>Prob(Omnibus):</th> <td> 0.668</td> <th>  Jarque-Bera (JB):  </th> <td>   0.460</td>\n",
       "</tr>\n",
       "<tr>\n",
       "  <th>Skew:</th>          <td>-0.150</td> <th>  Prob(JB):          </th> <td>   0.795</td>\n",
       "</tr>\n",
       "<tr>\n",
       "  <th>Kurtosis:</th>      <td> 3.145</td> <th>  Cond. No.          </th> <td>    2.10</td>\n",
       "</tr>\n",
       "</table><br/><br/>Notes:<br/>[1] Standard Errors assume that the covariance matrix of the errors is correctly specified."
      ],
      "text/plain": [
       "<class 'statsmodels.iolib.summary.Summary'>\n",
       "\"\"\"\n",
       "                            OLS Regression Results                            \n",
       "==============================================================================\n",
       "Dep. Variable:                      y   R-squared:                       0.863\n",
       "Model:                            OLS   Adj. R-squared:                  0.860\n",
       "Method:                 Least Squares   F-statistic:                     302.1\n",
       "Date:                Wed, 07 Jul 2021   Prob (F-statistic):           3.79e-42\n",
       "Time:                        07:50:57   Log-Likelihood:                -133.16\n",
       "No. Observations:                  99   AIC:                             272.3\n",
       "Df Residuals:                      96   BIC:                             280.1\n",
       "Df Model:                           2                                         \n",
       "Covariance Type:            nonrobust                                         \n",
       "==================================================================================\n",
       "                     coef    std err          t      P>|t|      [0.025      0.975]\n",
       "----------------------------------------------------------------------------------\n",
       "Intercept          0.1249      0.116      1.076      0.285      -0.106       0.355\n",
       "X                  1.0864      0.107     10.122      0.000       0.873       1.299\n",
       "np.power(X, 2)    -1.9820      0.085    -23.263      0.000      -2.151      -1.813\n",
       "==============================================================================\n",
       "Omnibus:                        0.808   Durbin-Watson:                   2.168\n",
       "Prob(Omnibus):                  0.668   Jarque-Bera (JB):                0.460\n",
       "Skew:                          -0.150   Prob(JB):                        0.795\n",
       "Kurtosis:                       3.145   Cond. No.                         2.10\n",
       "==============================================================================\n",
       "\n",
       "Notes:\n",
       "[1] Standard Errors assume that the covariance matrix of the errors is correctly specified.\n",
       "\"\"\""
      ]
     },
     "metadata": {},
     "output_type": "display_data"
    },
    {
     "data": {
      "text/html": [
       "<table class=\"simpletable\">\n",
       "<caption>OLS Regression Results</caption>\n",
       "<tr>\n",
       "  <th>Dep. Variable:</th>            <td>y</td>        <th>  R-squared:         </th> <td>   0.865</td>\n",
       "</tr>\n",
       "<tr>\n",
       "  <th>Model:</th>                   <td>OLS</td>       <th>  Adj. R-squared:    </th> <td>   0.861</td>\n",
       "</tr>\n",
       "<tr>\n",
       "  <th>Method:</th>             <td>Least Squares</td>  <th>  F-statistic:       </th> <td>   203.4</td>\n",
       "</tr>\n",
       "<tr>\n",
       "  <th>Date:</th>             <td>Wed, 07 Jul 2021</td> <th>  Prob (F-statistic):</th> <td>3.21e-41</td>\n",
       "</tr>\n",
       "<tr>\n",
       "  <th>Time:</th>                 <td>07:50:57</td>     <th>  Log-Likelihood:    </th> <td> -132.28</td>\n",
       "</tr>\n",
       "<tr>\n",
       "  <th>No. Observations:</th>      <td>    99</td>      <th>  AIC:               </th> <td>   272.6</td>\n",
       "</tr>\n",
       "<tr>\n",
       "  <th>Df Residuals:</th>          <td>    95</td>      <th>  BIC:               </th> <td>   282.9</td>\n",
       "</tr>\n",
       "<tr>\n",
       "  <th>Df Model:</th>              <td>     3</td>      <th>                     </th>     <td> </td>   \n",
       "</tr>\n",
       "<tr>\n",
       "  <th>Covariance Type:</th>      <td>nonrobust</td>    <th>                     </th>     <td> </td>   \n",
       "</tr>\n",
       "</table>\n",
       "<table class=\"simpletable\">\n",
       "<tr>\n",
       "         <td></td>           <th>coef</th>     <th>std err</th>      <th>t</th>      <th>P>|t|</th>  <th>[0.025</th>    <th>0.975]</th>  \n",
       "</tr>\n",
       "<tr>\n",
       "  <th>Intercept</th>      <td>    0.1160</td> <td>    0.116</td> <td>    1.001</td> <td> 0.319</td> <td>   -0.114</td> <td>    0.346</td>\n",
       "</tr>\n",
       "<tr>\n",
       "  <th>X</th>              <td>    0.8835</td> <td>    0.189</td> <td>    4.686</td> <td> 0.000</td> <td>    0.509</td> <td>    1.258</td>\n",
       "</tr>\n",
       "<tr>\n",
       "  <th>np.power(X, 2)</th> <td>   -1.9716</td> <td>    0.085</td> <td>  -23.127</td> <td> 0.000</td> <td>   -2.141</td> <td>   -1.802</td>\n",
       "</tr>\n",
       "<tr>\n",
       "  <th>np.power(X, 3)</th> <td>    0.0850</td> <td>    0.065</td> <td>    1.306</td> <td> 0.195</td> <td>   -0.044</td> <td>    0.214</td>\n",
       "</tr>\n",
       "</table>\n",
       "<table class=\"simpletable\">\n",
       "<tr>\n",
       "  <th>Omnibus:</th>       <td> 1.504</td> <th>  Durbin-Watson:     </th> <td>   2.146</td>\n",
       "</tr>\n",
       "<tr>\n",
       "  <th>Prob(Omnibus):</th> <td> 0.471</td> <th>  Jarque-Bera (JB):  </th> <td>   1.022</td>\n",
       "</tr>\n",
       "<tr>\n",
       "  <th>Skew:</th>          <td>-0.222</td> <th>  Prob(JB):          </th> <td>   0.600</td>\n",
       "</tr>\n",
       "<tr>\n",
       "  <th>Kurtosis:</th>      <td> 3.223</td> <th>  Cond. No.          </th> <td>    5.57</td>\n",
       "</tr>\n",
       "</table><br/><br/>Notes:<br/>[1] Standard Errors assume that the covariance matrix of the errors is correctly specified."
      ],
      "text/plain": [
       "<class 'statsmodels.iolib.summary.Summary'>\n",
       "\"\"\"\n",
       "                            OLS Regression Results                            \n",
       "==============================================================================\n",
       "Dep. Variable:                      y   R-squared:                       0.865\n",
       "Model:                            OLS   Adj. R-squared:                  0.861\n",
       "Method:                 Least Squares   F-statistic:                     203.4\n",
       "Date:                Wed, 07 Jul 2021   Prob (F-statistic):           3.21e-41\n",
       "Time:                        07:50:57   Log-Likelihood:                -132.28\n",
       "No. Observations:                  99   AIC:                             272.6\n",
       "Df Residuals:                      95   BIC:                             282.9\n",
       "Df Model:                           3                                         \n",
       "Covariance Type:            nonrobust                                         \n",
       "==================================================================================\n",
       "                     coef    std err          t      P>|t|      [0.025      0.975]\n",
       "----------------------------------------------------------------------------------\n",
       "Intercept          0.1160      0.116      1.001      0.319      -0.114       0.346\n",
       "X                  0.8835      0.189      4.686      0.000       0.509       1.258\n",
       "np.power(X, 2)    -1.9716      0.085    -23.127      0.000      -2.141      -1.802\n",
       "np.power(X, 3)     0.0850      0.065      1.306      0.195      -0.044       0.214\n",
       "==============================================================================\n",
       "Omnibus:                        1.504   Durbin-Watson:                   2.146\n",
       "Prob(Omnibus):                  0.471   Jarque-Bera (JB):                1.022\n",
       "Skew:                          -0.222   Prob(JB):                        0.600\n",
       "Kurtosis:                       3.223   Cond. No.                         5.57\n",
       "==============================================================================\n",
       "\n",
       "Notes:\n",
       "[1] Standard Errors assume that the covariance matrix of the errors is correctly specified.\n",
       "\"\"\""
      ]
     },
     "metadata": {},
     "output_type": "display_data"
    },
    {
     "data": {
      "text/html": [
       "<table class=\"simpletable\">\n",
       "<caption>OLS Regression Results</caption>\n",
       "<tr>\n",
       "  <th>Dep. Variable:</th>            <td>y</td>        <th>  R-squared:         </th> <td>   0.873</td>\n",
       "</tr>\n",
       "<tr>\n",
       "  <th>Model:</th>                   <td>OLS</td>       <th>  Adj. R-squared:    </th> <td>   0.868</td>\n",
       "</tr>\n",
       "<tr>\n",
       "  <th>Method:</th>             <td>Least Squares</td>  <th>  F-statistic:       </th> <td>   162.2</td>\n",
       "</tr>\n",
       "<tr>\n",
       "  <th>Date:</th>             <td>Wed, 07 Jul 2021</td> <th>  Prob (F-statistic):</th> <td>2.67e-41</td>\n",
       "</tr>\n",
       "<tr>\n",
       "  <th>Time:</th>                 <td>07:50:57</td>     <th>  Log-Likelihood:    </th> <td> -129.19</td>\n",
       "</tr>\n",
       "<tr>\n",
       "  <th>No. Observations:</th>      <td>    99</td>      <th>  AIC:               </th> <td>   268.4</td>\n",
       "</tr>\n",
       "<tr>\n",
       "  <th>Df Residuals:</th>          <td>    94</td>      <th>  BIC:               </th> <td>   281.4</td>\n",
       "</tr>\n",
       "<tr>\n",
       "  <th>Df Model:</th>              <td>     4</td>      <th>                     </th>     <td> </td>   \n",
       "</tr>\n",
       "<tr>\n",
       "  <th>Covariance Type:</th>      <td>nonrobust</td>    <th>                     </th>     <td> </td>   \n",
       "</tr>\n",
       "</table>\n",
       "<table class=\"simpletable\">\n",
       "<tr>\n",
       "         <td></td>           <th>coef</th>     <th>std err</th>      <th>t</th>      <th>P>|t|</th>  <th>[0.025</th>    <th>0.975]</th>  \n",
       "</tr>\n",
       "<tr>\n",
       "  <th>Intercept</th>      <td>    0.3031</td> <td>    0.136</td> <td>    2.227</td> <td> 0.028</td> <td>    0.033</td> <td>    0.573</td>\n",
       "</tr>\n",
       "<tr>\n",
       "  <th>X</th>              <td>    0.8887</td> <td>    0.184</td> <td>    4.838</td> <td> 0.000</td> <td>    0.524</td> <td>    1.253</td>\n",
       "</tr>\n",
       "<tr>\n",
       "  <th>np.power(X, 2)</th> <td>   -2.5461</td> <td>    0.248</td> <td>  -10.281</td> <td> 0.000</td> <td>   -3.038</td> <td>   -2.054</td>\n",
       "</tr>\n",
       "<tr>\n",
       "  <th>np.power(X, 3)</th> <td>    0.1059</td> <td>    0.064</td> <td>    1.655</td> <td> 0.101</td> <td>   -0.021</td> <td>    0.233</td>\n",
       "</tr>\n",
       "<tr>\n",
       "  <th>np.power(X, 4)</th> <td>    0.1407</td> <td>    0.057</td> <td>    2.462</td> <td> 0.016</td> <td>    0.027</td> <td>    0.254</td>\n",
       "</tr>\n",
       "</table>\n",
       "<table class=\"simpletable\">\n",
       "<tr>\n",
       "  <th>Omnibus:</th>       <td> 1.519</td> <th>  Durbin-Watson:     </th> <td>   2.121</td>\n",
       "</tr>\n",
       "<tr>\n",
       "  <th>Prob(Omnibus):</th> <td> 0.468</td> <th>  Jarque-Bera (JB):  </th> <td>   1.037</td>\n",
       "</tr>\n",
       "<tr>\n",
       "  <th>Skew:</th>          <td>-0.225</td> <th>  Prob(JB):          </th> <td>   0.595</td>\n",
       "</tr>\n",
       "<tr>\n",
       "  <th>Kurtosis:</th>      <td> 3.221</td> <th>  Cond. No.          </th> <td>    15.9</td>\n",
       "</tr>\n",
       "</table><br/><br/>Notes:<br/>[1] Standard Errors assume that the covariance matrix of the errors is correctly specified."
      ],
      "text/plain": [
       "<class 'statsmodels.iolib.summary.Summary'>\n",
       "\"\"\"\n",
       "                            OLS Regression Results                            \n",
       "==============================================================================\n",
       "Dep. Variable:                      y   R-squared:                       0.873\n",
       "Model:                            OLS   Adj. R-squared:                  0.868\n",
       "Method:                 Least Squares   F-statistic:                     162.2\n",
       "Date:                Wed, 07 Jul 2021   Prob (F-statistic):           2.67e-41\n",
       "Time:                        07:50:57   Log-Likelihood:                -129.19\n",
       "No. Observations:                  99   AIC:                             268.4\n",
       "Df Residuals:                      94   BIC:                             281.4\n",
       "Df Model:                           4                                         \n",
       "Covariance Type:            nonrobust                                         \n",
       "==================================================================================\n",
       "                     coef    std err          t      P>|t|      [0.025      0.975]\n",
       "----------------------------------------------------------------------------------\n",
       "Intercept          0.3031      0.136      2.227      0.028       0.033       0.573\n",
       "X                  0.8887      0.184      4.838      0.000       0.524       1.253\n",
       "np.power(X, 2)    -2.5461      0.248    -10.281      0.000      -3.038      -2.054\n",
       "np.power(X, 3)     0.1059      0.064      1.655      0.101      -0.021       0.233\n",
       "np.power(X, 4)     0.1407      0.057      2.462      0.016       0.027       0.254\n",
       "==============================================================================\n",
       "Omnibus:                        1.519   Durbin-Watson:                   2.121\n",
       "Prob(Omnibus):                  0.468   Jarque-Bera (JB):                1.037\n",
       "Skew:                          -0.225   Prob(JB):                        0.595\n",
       "Kurtosis:                       3.221   Cond. No.                         15.9\n",
       "==============================================================================\n",
       "\n",
       "Notes:\n",
       "[1] Standard Errors assume that the covariance matrix of the errors is correctly specified.\n",
       "\"\"\""
      ]
     },
     "metadata": {},
     "output_type": "display_data"
    }
   ],
   "source": [
    "\n",
    "np.random.seed(1)\n",
    "mu, sigma = 0, 1 # mean and standard deviation\n",
    "X = np.random.normal(mu, sigma, 100)\n",
    "y = X- (2 * (X**2)) + np.random.normal(mu, sigma, 100)\n",
    "data_df=pd.DataFrame({'X': X, 'y': y})\n",
    "formulas = {'X'  : 'y ~ X', \n",
    "            'X^2' : 'y ~ X + np.power(X, 2)',\n",
    "            'X^3': 'y ~ X + np.power(X, 2) + np.power(X, 3)',\n",
    "            'X^4' : 'y ~ X + np.power(X, 2) + np.power(X, 3) + np.power(X, 4)'}\n",
    "    \n",
    "for f in formulas:\n",
    "\n",
    "    \n",
    "    model_ols = smf.ols(formula=formulas[f], data=data_df[train]).fit()\n",
    "            \n",
    "        \n",
    "\n",
    "    display(model_ols.summary())"
   ]
  },
  {
   "cell_type": "markdown",
   "metadata": {},
   "source": [
    "#### The p-values show that the linear and quadratic terms are statistically significants and that the cubic and 4th degree terms are not statistically significants . This agree strongly with our cross-validation results which were minimum for the quadratic model."
   ]
  },
  {
   "cell_type": "markdown",
   "metadata": {},
   "source": [
    "but why at the quadratic model the intercept is unsignificant?."
   ]
  },
  {
   "cell_type": "markdown",
   "metadata": {},
   "source": [
    "### Question9:"
   ]
  },
  {
   "cell_type": "code",
   "execution_count": 157,
   "metadata": {},
   "outputs": [
    {
     "data": {
      "text/html": [
       "<div>\n",
       "<style scoped>\n",
       "    .dataframe tbody tr th:only-of-type {\n",
       "        vertical-align: middle;\n",
       "    }\n",
       "\n",
       "    .dataframe tbody tr th {\n",
       "        vertical-align: top;\n",
       "    }\n",
       "\n",
       "    .dataframe thead th {\n",
       "        text-align: right;\n",
       "    }\n",
       "</style>\n",
       "<table border=\"1\" class=\"dataframe\">\n",
       "  <thead>\n",
       "    <tr style=\"text-align: right;\">\n",
       "      <th></th>\n",
       "      <th>crim</th>\n",
       "      <th>zn</th>\n",
       "      <th>indus</th>\n",
       "      <th>chas</th>\n",
       "      <th>nox</th>\n",
       "      <th>rm</th>\n",
       "      <th>age</th>\n",
       "      <th>dis</th>\n",
       "      <th>rad</th>\n",
       "      <th>tax</th>\n",
       "      <th>ptratio</th>\n",
       "      <th>black</th>\n",
       "      <th>lstat</th>\n",
       "      <th>medv</th>\n",
       "    </tr>\n",
       "  </thead>\n",
       "  <tbody>\n",
       "    <tr>\n",
       "      <th>0</th>\n",
       "      <td>0.00632</td>\n",
       "      <td>18.0</td>\n",
       "      <td>2.31</td>\n",
       "      <td>0</td>\n",
       "      <td>0.538</td>\n",
       "      <td>6.575</td>\n",
       "      <td>65.2</td>\n",
       "      <td>4.0900</td>\n",
       "      <td>1</td>\n",
       "      <td>296</td>\n",
       "      <td>15.3</td>\n",
       "      <td>396.90</td>\n",
       "      <td>4.98</td>\n",
       "      <td>24.0</td>\n",
       "    </tr>\n",
       "    <tr>\n",
       "      <th>1</th>\n",
       "      <td>0.02731</td>\n",
       "      <td>0.0</td>\n",
       "      <td>7.07</td>\n",
       "      <td>0</td>\n",
       "      <td>0.469</td>\n",
       "      <td>6.421</td>\n",
       "      <td>78.9</td>\n",
       "      <td>4.9671</td>\n",
       "      <td>2</td>\n",
       "      <td>242</td>\n",
       "      <td>17.8</td>\n",
       "      <td>396.90</td>\n",
       "      <td>9.14</td>\n",
       "      <td>21.6</td>\n",
       "    </tr>\n",
       "    <tr>\n",
       "      <th>2</th>\n",
       "      <td>0.02729</td>\n",
       "      <td>0.0</td>\n",
       "      <td>7.07</td>\n",
       "      <td>0</td>\n",
       "      <td>0.469</td>\n",
       "      <td>7.185</td>\n",
       "      <td>61.1</td>\n",
       "      <td>4.9671</td>\n",
       "      <td>2</td>\n",
       "      <td>242</td>\n",
       "      <td>17.8</td>\n",
       "      <td>392.83</td>\n",
       "      <td>4.03</td>\n",
       "      <td>34.7</td>\n",
       "    </tr>\n",
       "    <tr>\n",
       "      <th>3</th>\n",
       "      <td>0.03237</td>\n",
       "      <td>0.0</td>\n",
       "      <td>2.18</td>\n",
       "      <td>0</td>\n",
       "      <td>0.458</td>\n",
       "      <td>6.998</td>\n",
       "      <td>45.8</td>\n",
       "      <td>6.0622</td>\n",
       "      <td>3</td>\n",
       "      <td>222</td>\n",
       "      <td>18.7</td>\n",
       "      <td>394.63</td>\n",
       "      <td>2.94</td>\n",
       "      <td>33.4</td>\n",
       "    </tr>\n",
       "    <tr>\n",
       "      <th>4</th>\n",
       "      <td>0.06905</td>\n",
       "      <td>0.0</td>\n",
       "      <td>2.18</td>\n",
       "      <td>0</td>\n",
       "      <td>0.458</td>\n",
       "      <td>7.147</td>\n",
       "      <td>54.2</td>\n",
       "      <td>6.0622</td>\n",
       "      <td>3</td>\n",
       "      <td>222</td>\n",
       "      <td>18.7</td>\n",
       "      <td>396.90</td>\n",
       "      <td>5.33</td>\n",
       "      <td>36.2</td>\n",
       "    </tr>\n",
       "  </tbody>\n",
       "</table>\n",
       "</div>"
      ],
      "text/plain": [
       "      crim    zn  indus  chas    nox     rm   age     dis  rad  tax  ptratio  \\\n",
       "0  0.00632  18.0   2.31     0  0.538  6.575  65.2  4.0900    1  296     15.3   \n",
       "1  0.02731   0.0   7.07     0  0.469  6.421  78.9  4.9671    2  242     17.8   \n",
       "2  0.02729   0.0   7.07     0  0.469  7.185  61.1  4.9671    2  242     17.8   \n",
       "3  0.03237   0.0   2.18     0  0.458  6.998  45.8  6.0622    3  222     18.7   \n",
       "4  0.06905   0.0   2.18     0  0.458  7.147  54.2  6.0622    3  222     18.7   \n",
       "\n",
       "    black  lstat  medv  \n",
       "0  396.90   4.98  24.0  \n",
       "1  396.90   9.14  21.6  \n",
       "2  392.83   4.03  34.7  \n",
       "3  394.63   2.94  33.4  \n",
       "4  396.90   5.33  36.2  "
      ]
     },
     "execution_count": 157,
     "metadata": {},
     "output_type": "execute_result"
    }
   ],
   "source": [
    "boston_df=pd.read_csv(\"./csv/Boston.csv\")\n",
    "boston_df.head()"
   ]
  },
  {
   "cell_type": "code",
   "execution_count": 158,
   "metadata": {},
   "outputs": [
    {
     "data": {
      "text/plain": [
       "22.532806324110698"
      ]
     },
     "execution_count": 158,
     "metadata": {},
     "output_type": "execute_result"
    }
   ],
   "source": [
    "mu_hat = boston_df['medv'].mean()\n",
    "mu_hat"
   ]
  },
  {
   "cell_type": "code",
   "execution_count": 159,
   "metadata": {},
   "outputs": [
    {
     "data": {
      "text/plain": [
       "0.4084569346972866"
      ]
     },
     "execution_count": 159,
     "metadata": {},
     "output_type": "execute_result"
    }
   ],
   "source": [
    "def std_error_mean(df):\n",
    "    medv = np.array(df)\n",
    "    SE   = np.std(medv) / np.sqrt(len(medv))\n",
    "    return SE\n",
    "std_error_mean(boston_df['medv'])\n"
   ]
  },
  {
   "cell_type": "code",
   "execution_count": 160,
   "metadata": {},
   "outputs": [
    {
     "name": "stdout",
     "output_type": "stream",
     "text": [
      "22.53758353754941\n"
     ]
    }
   ],
   "source": [
    "#C)\n",
    "def mean_boot(df, idx):\n",
    "    Z = np.array(df.loc[idx])\n",
    "    return np.mean(Z)\n",
    "def samples_idx(n):\n",
    "    # return the index of bootstrap sample with size n and replacement\n",
    "     return np.random.randint(low=0, high=n, size=n)\n",
    "\n",
    "def boot(fn,data,samples):\n",
    "    results = []\n",
    "    for s in range(samples):\n",
    "        Z = fn(data, samples_idx(data.shape[0]))\n",
    "        results += [Z]\n",
    "    return np.array(results)\n",
    "\n",
    "B = 10000\n",
    "mean_boot = boot(mean_boot, boston_df['medv'], samples=B)\n",
    "print(mean_boot.mean())\n",
    "std =np.std(mean_boot)"
   ]
  },
  {
   "cell_type": "code",
   "execution_count": 161,
   "metadata": {},
   "outputs": [
    {
     "data": {
      "text/plain": [
       "0.41015962516561255"
      ]
     },
     "execution_count": 161,
     "metadata": {},
     "output_type": "execute_result"
    }
   ],
   "source": [
    "std"
   ]
  },
  {
   "cell_type": "code",
   "execution_count": 162,
   "metadata": {},
   "outputs": [
    {
     "name": "stdout",
     "output_type": "stream",
     "text": [
      "The 95% confidence interval for mu is:[21.712,23.353]\n"
     ]
    }
   ],
   "source": [
    "#D)\n",
    "low_mu = round(mu_hat - (2*std),3)\n",
    "high_mu  = round(mu_hat + (2*std),3)\n",
    "print(f\"The 95% confidence interval for mu is:[{low_mu},{high_mu}]\")"
   ]
  },
  {
   "cell_type": "code",
   "execution_count": 163,
   "metadata": {},
   "outputs": [
    {
     "data": {
      "text/plain": [
       "21.2"
      ]
     },
     "execution_count": 163,
     "metadata": {},
     "output_type": "execute_result"
    }
   ],
   "source": [
    "#E)\n",
    "median_hat=boston_df['medv'].median()\n",
    "median_hat"
   ]
  },
  {
   "cell_type": "code",
   "execution_count": 164,
   "metadata": {},
   "outputs": [
    {
     "name": "stdout",
     "output_type": "stream",
     "text": [
      "21.17889\n",
      "0.3794533804039697\n"
     ]
    }
   ],
   "source": [
    "#F)\n",
    "def median_boot(df, idx):\n",
    "    Z = np.array(df.loc[idx])\n",
    "    return np.median(Z)\n",
    "\n",
    "B = 10000\n",
    "median_boot = boot(median_boot, boston_df['medv'], samples=B)\n",
    "print(median_boot.mean())\n",
    "std =np.std(median_boot)\n",
    "print(std)"
   ]
  },
  {
   "cell_type": "code",
   "execution_count": 165,
   "metadata": {},
   "outputs": [
    {
     "name": "stdout",
     "output_type": "stream",
     "text": [
      "The 95% confidence interval for mu is:[20.441,21.959]\n"
     ]
    }
   ],
   "source": [
    "low_median = round(median_hat - (2*std),3)\n",
    "high_median  = round(median_hat + (2*std),3)\n",
    "print(f\"The 95% confidence interval for mu is:[{low_median},{high_median}]\")"
   ]
  },
  {
   "cell_type": "code",
   "execution_count": 166,
   "metadata": {},
   "outputs": [
    {
     "name": "stdout",
     "output_type": "stream",
     "text": [
      "tenth_percentile: 12.75\n"
     ]
    }
   ],
   "source": [
    "#G)\n",
    "tenth_percentile = np.percentile(boston_df['medv'], 10)\n",
    "print('tenth_percentile: ' + str(tenth_percentile))"
   ]
  },
  {
   "cell_type": "code",
   "execution_count": 167,
   "metadata": {},
   "outputs": [
    {
     "name": "stdout",
     "output_type": "stream",
     "text": [
      "12.764254999999999\n"
     ]
    }
   ],
   "source": [
    "def tenth_percentile(df, idx):\n",
    "    Z = np.array(df.loc[idx])\n",
    "    return np.percentile(Z,10)\n",
    "\n",
    "\n",
    "B = 10000\n",
    "percentile_boot = boot(tenth_percentile, boston_df['medv'], samples=B)\n",
    "print(percentile_boot.mean())\n",
    "std =np.std(percentile_boot)"
   ]
  },
  {
   "cell_type": "code",
   "execution_count": 168,
   "metadata": {},
   "outputs": [
    {
     "name": "stdout",
     "output_type": "stream",
     "text": [
      "0.49552451500909617\n"
     ]
    }
   ],
   "source": [
    "print(std)"
   ]
  },
  {
   "cell_type": "markdown",
   "metadata": {},
   "source": [
    "We got an estimated mu and median and percentile very close to the real values but all with high standard deviation"
   ]
  },
  {
   "cell_type": "code",
   "execution_count": null,
   "metadata": {},
   "outputs": [],
   "source": []
  }
 ],
 "metadata": {
  "kernelspec": {
   "display_name": "Python 3",
   "language": "python",
   "name": "python3"
  },
  "language_info": {
   "codemirror_mode": {
    "name": "ipython",
    "version": 3
   },
   "file_extension": ".py",
   "mimetype": "text/x-python",
   "name": "python",
   "nbconvert_exporter": "python",
   "pygments_lexer": "ipython3",
   "version": "3.7.7"
  }
 },
 "nbformat": 4,
 "nbformat_minor": 4
}
